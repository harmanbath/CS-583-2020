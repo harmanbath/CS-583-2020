{
 "cells": [
  {
   "cell_type": "code",
   "execution_count": null,
   "metadata": {},
   "outputs": [],
   "source": [
    "from keras.datasets import cifar10\n",
    "import numpy\n",
    "\n",
    "(x_train, y_train), (x_test, y_test) = cifar10.load_data()\n",
    "\n",
    "print('shape of x_train: ' + str(x_train.shape))\n",
    "print('shape of y_train: ' + str(y_train.shape))\n",
    "print('shape of x_test: ' + str(x_test.shape))\n",
    "print('shape of y_test: ' + str(y_test.shape))\n",
    "print('number of classes: ' + str(numpy.max(y_train) - numpy.min(y_train) + 1))"
   ]
  },
  {
   "cell_type": "code",
   "execution_count": null,
   "metadata": {},
   "outputs": [],
   "source": [
    "def to_one_hot(y, num_class=10):\n",
    "    one_hot_ret = numpy.zeros((y.shape[0], 10))\n",
    "    one_hot_ret[numpy.arange((y.shape[0])),y[:,0]] = 1\n",
    "    return one_hot_ret\n",
    "    \n",
    "\n",
    "y_train_vec = to_one_hot(y_train)\n",
    "y_test_vec = to_one_hot(y_test)\n",
    "\n",
    "print('Shape of y_train_vec: ' + str(y_train_vec.shape))\n",
    "print('Shape of y_test_vec: ' + str(y_test_vec.shape))\n",
    "\n",
    "print(y_train[0])\n",
    "print(y_train_vec[0])"
   ]
  },
  {
   "cell_type": "code",
   "execution_count": null,
   "metadata": {},
   "outputs": [],
   "source": [
    "rand_indices = numpy.random.permutation(50000)\n",
    "train_indices = rand_indices[0:40000]\n",
    "valid_indices = rand_indices[40000:50000]\n",
    "\n",
    "x_val = x_train[valid_indices, :]\n",
    "y_val = y_train_vec[valid_indices, :]\n",
    "\n",
    "x_tr = x_train[train_indices, :]\n",
    "y_tr = y_train_vec[train_indices, :]\n",
    "\n",
    "print('Shape of x_tr: ' + str(x_tr.shape))\n",
    "print('Shape of y_tr: ' + str(y_tr.shape))\n",
    "print('Shape of x_val: ' + str(x_val.shape))\n",
    "print('Shape of y_val: ' + str(y_val.shape))"
   ]
  },
  {
   "cell_type": "code",
   "execution_count": null,
   "metadata": {},
   "outputs": [],
   "source": [
    "from keras.models import Model\n",
    "from keras.layers import Conv2D, MaxPooling2D, Flatten, Dense, Dropout, BatchNormalization, Activation, add, AveragePooling2D, Input\n",
    "from keras.models import Sequential\n",
    "\n",
    "def add_bottleneck(X, channel_count, downsample=True, dropout=False):\n",
    "    X_skip = X\n",
    "    if True == downsample:\n",
    "        stride_val = 2\n",
    "    else:\n",
    "        stride_val = 1\n",
    "    if True == dropout:\n",
    "        X = Dropout(0.3)(X)\n",
    "    X_out = Conv2D(channel_count, (3, 3), strides = stride_val, padding='same')(X)\n",
    "    X_out = BatchNormalization()(X_out)\n",
    "    X_out = Activation('relu')(X_out)\n",
    "    if True == dropout:\n",
    "        X_out = Dropout(0.3)(X_out)\n",
    "    X_out = Conv2D(channel_count, (3, 3), padding='same')(X_out)\n",
    "    X_out = BatchNormalization()(X_out)\n",
    "    if True == dropout:\n",
    "        X_skip = Dropout(0.3)(X_skip)\n",
    "    X_skip = Conv2D(channel_count, (3, 3), strides = stride_val, padding='same')(X_skip)\n",
    "    #X_skip = MaxPooling2D((2, 2))(X_skip)\n",
    "    out = add([X_out, X_skip])\n",
    "    out = Activation('relu')(out)\n",
    "    return out\n",
    "    \n",
    "input_x = Input(shape=(32, 32, 3))\n",
    "X = Conv2D(32, (3, 3), padding='same')(input_x)\n",
    "X = BatchNormalization()(X)\n",
    "X = Activation('relu')(X)\n",
    "X = MaxPooling2D((2, 2))(X)\n",
    "X = add_bottleneck(X, 32, downsample=False)\n",
    "X = add_bottleneck(X, 32, downsample=False)\n",
    "X = add_bottleneck(X, 64, downsample=False)\n",
    "X = add_bottleneck(X, 64, downsample=True)\n",
    "X = add_bottleneck(X, 128, downsample=False, dropout=False)\n",
    "X = add_bottleneck(X, 128, downsample=True, dropout=False)\n",
    "X = add_bottleneck(X, 256, downsample=False, dropout=False)\n",
    "X = add_bottleneck(X, 256, downsample=False, dropout=False)\n",
    "X = add_bottleneck(X, 512, downsample=False, dropout=False)\n",
    "X = add_bottleneck(X, 512, downsample=True, dropout=False)\n",
    "X = AveragePooling2D((2, 2))(X)\n",
    "X = Flatten()(X)\n",
    "X = Dense(10, activation='softmax')(X)\n",
    "# Create model\n",
    "model = Model(inputs = input_x, outputs = X, name='ResNet')\n",
    "\n",
    "model.summary()"
   ]
  },
  {
   "cell_type": "code",
   "execution_count": null,
   "metadata": {},
   "outputs": [],
   "source": [
    "from keras.callbacks import LearningRateScheduler\n",
    "\n",
    "# learning rate schedule\n",
    "class step_decay():\n",
    "    def __init__(self):\n",
    "        self.initial_lrate = 0.0005\n",
    "        self.drop = 0.5\n",
    "        self.epochs_drop = 40.0\n",
    "        #self.epochs_drop = 5.0\n",
    "        \n",
    "    def __call__(self, epoch):\n",
    "        lrate = self.initial_lrate * numpy.power(self.drop, numpy.floor((1+epoch)/self.epochs_drop))\n",
    "        print(\"lrate: \", lrate)\n",
    "        return lrate"
   ]
  },
  {
   "cell_type": "code",
   "execution_count": null,
   "metadata": {},
   "outputs": [],
   "source": [
    "from keras import optimizers\n",
    "\n",
    "#learning_rate = 0.0007 # to be tuned!\n",
    "\n",
    "model.compile(loss='categorical_crossentropy',\n",
    "              optimizer=optimizers.RMSprop(lr=0.0),\n",
    "              metrics=['acc'])\n",
    "# learning schedule callback\n",
    "lrate = LearningRateScheduler(step_decay())\n",
    "callbacks_list = [lrate]"
   ]
  },
  {
   "cell_type": "code",
   "execution_count": null,
   "metadata": {},
   "outputs": [],
   "source": [
    "from keras.preprocessing.image import ImageDataGenerator\n",
    "\n",
    "# datagen = ImageDataGenerator(\n",
    "#         rotation_range=45,  \n",
    "#         width_shift_range=0.2,\n",
    "#         height_shift_range=0.2,\n",
    "#         shear_range=5.0,\n",
    "#         zoom_range=0.5,\n",
    "#         fill_mode='nearest',\n",
    "#         horizontal_flip=True,\n",
    "#         data_format='channels_last',\n",
    "#         validation_split=0.0)\n",
    "datagen = ImageDataGenerator(\n",
    "        rotation_range=40,  \n",
    "        width_shift_range=0.2,\n",
    "        height_shift_range=0.2,\n",
    "        shear_range=0.2,\n",
    "        zoom_range=0.2,\n",
    "        fill_mode='nearest',\n",
    "        horizontal_flip=True,\n",
    "        data_format='channels_last',\n",
    "        validation_split=0.0)\n",
    "datagen.fit(x_tr)"
   ]
  },
  {
   "cell_type": "code",
   "execution_count": null,
   "metadata": {},
   "outputs": [],
   "source": [
    "history = model.fit_generator(datagen.flow(x_tr, y_tr, batch_size=32), steps_per_epoch=int(len(x_tr)/32), epochs=500, callbacks=callbacks_list, validation_data=(x_val, y_val))"
   ]
  },
  {
   "cell_type": "code",
   "execution_count": null,
   "metadata": {},
   "outputs": [],
   "source": []
  }
 ],
 "metadata": {
  "kernelspec": {
   "display_name": "Python 3",
   "language": "python",
   "name": "python3"
  },
  "language_info": {
   "codemirror_mode": {
    "name": "ipython",
    "version": 3
   },
   "file_extension": ".py",
   "mimetype": "text/x-python",
   "name": "python",
   "nbconvert_exporter": "python",
   "pygments_lexer": "ipython3",
   "version": "3.7.6"
  }
 },
 "nbformat": 4,
 "nbformat_minor": 4
}
