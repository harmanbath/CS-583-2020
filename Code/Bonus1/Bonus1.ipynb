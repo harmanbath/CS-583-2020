{
 "cells": [
  {
   "cell_type": "markdown",
   "metadata": {},
   "source": [
    "# Bonus1: Parallel Algorithms : Federated averaging\n",
    "\n",
    "\n",
    "### Name: Harman Singh \n"
   ]
  },
  {
   "cell_type": "markdown",
   "metadata": {},
   "source": [
    "## 0. You will do the following:\n",
    "\n",
    "1. Read the lecture note: [click here](https://github.com/wangshusen/DeepLearning/blob/master/LectureNotes/Parallel/Parallel.pdf)\n",
    "\n",
    "2. Implement federated averaging or decentralized optimization.\n",
    "\n",
    "3. Plot the convergence curve. (The x-axis can be ```number of epochs``` or ```number of communication```. You must make sure the label is correct.)\n",
    "\n",
    "4. Convert the .IPYNB file to .HTML file.\n",
    "\n",
    "    * The HTML file must contain **the code** and **the output after execution**.\n",
    "    \n",
    "5. Upload this .HTML file to your Google Drive, Dropbox, or your Github repo. (If it is submitted to Google Drive or Dropbox, you must make the file open-access.)\n",
    "\n",
    "6. Submit the link to this .HTML file to Canvas.\n",
    "\n",
    "    * Example: https://github.com/wangshusen/CS583-2020S/blob/master/homework/Bonus1/Bonus1.html\n",
    "\n"
   ]
  },
  {
   "cell_type": "code",
   "execution_count": null,
   "metadata": {},
   "outputs": [],
   "source": []
  },
  {
   "cell_type": "markdown",
   "metadata": {},
   "source": [
    "# 1. Data processing\n",
    "\n",
    "- Download the Diabete dataset from https://www.csie.ntu.edu.tw/~cjlin/libsvmtools/datasets/binary/diabetes\n",
    "- Load the data using sklearn.\n",
    "- Preprocess the data."
   ]
  },
  {
   "cell_type": "markdown",
   "metadata": {},
   "source": [
    "## 1.1. Load the data"
   ]
  },
  {
   "cell_type": "code",
   "execution_count": 1,
   "metadata": {},
   "outputs": [
    {
     "name": "stdout",
     "output_type": "stream",
     "text": [
      "Shape of x: (768, 8)\n",
      "Shape of y: (768,)\n"
     ]
    }
   ],
   "source": [
    "from sklearn import datasets\n",
    "import numpy\n",
    "\n",
    "x_sparse, y = datasets.load_svmlight_file('diabetes')\n",
    "x = x_sparse.todense()\n",
    "\n",
    "print('Shape of x: ' + str(x.shape))\n",
    "print('Shape of y: ' + str(y.shape))"
   ]
  },
  {
   "cell_type": "markdown",
   "metadata": {},
   "source": [
    "## 1.2. Partition to training and test sets"
   ]
  },
  {
   "cell_type": "code",
   "execution_count": 2,
   "metadata": {},
   "outputs": [
    {
     "name": "stdout",
     "output_type": "stream",
     "text": [
      "Shape of x_train: (640, 8)\n",
      "Shape of x_test: (128, 8)\n",
      "Shape of y_train: (640, 1)\n",
      "Shape of y_test: (128, 1)\n"
     ]
    }
   ],
   "source": [
    "# partition the data to training and test sets\n",
    "n = x.shape[0]\n",
    "n_train = 640\n",
    "n_test = n - n_train\n",
    "\n",
    "rand_indices = numpy.random.permutation(n)\n",
    "train_indices = rand_indices[0:n_train]\n",
    "test_indices = rand_indices[n_train:n]\n",
    "\n",
    "x_train = x[train_indices, :]\n",
    "x_test = x[test_indices, :]\n",
    "y_train = y[train_indices].reshape(n_train, 1)\n",
    "y_test = y[test_indices].reshape(n_test, 1)\n",
    "\n",
    "print('Shape of x_train: ' + str(x_train.shape))\n",
    "print('Shape of x_test: ' + str(x_test.shape))\n",
    "print('Shape of y_train: ' + str(y_train.shape))\n",
    "print('Shape of y_test: ' + str(y_test.shape))"
   ]
  },
  {
   "cell_type": "markdown",
   "metadata": {},
   "source": [
    "## 1.3. Feature scaling"
   ]
  },
  {
   "cell_type": "markdown",
   "metadata": {},
   "source": [
    "Use the standardization to trainsform both training and test features"
   ]
  },
  {
   "cell_type": "code",
   "execution_count": 3,
   "metadata": {},
   "outputs": [
    {
     "name": "stdout",
     "output_type": "stream",
     "text": [
      "test mean = \n",
      "[[ 0.06034213  0.07530705 -0.04554145 -0.05311129 -0.10580289 -0.13894491\n",
      "  -0.10045342  0.25612103]]\n",
      "test std = \n",
      "[[0.95383154 1.02465575 0.96460828 1.10572517 0.82171114 0.95654743\n",
      "  0.77557865 1.17251885]]\n"
     ]
    }
   ],
   "source": [
    "# Standardization\n",
    "import numpy\n",
    "\n",
    "# calculate mu and sig using the training set\n",
    "d = x_train.shape[1]\n",
    "mu = numpy.mean(x_train, axis=0).reshape(1, d)\n",
    "sig = numpy.std(x_train, axis=0).reshape(1, d)\n",
    "\n",
    "# transform the training features\n",
    "x_train = (x_train - mu) / (sig + 1E-6)\n",
    "\n",
    "# transform the test features\n",
    "x_test = (x_test - mu) / (sig + 1E-6)\n",
    "\n",
    "print('test mean = ')\n",
    "print(numpy.mean(x_test, axis=0))\n",
    "\n",
    "print('test std = ')\n",
    "print(numpy.std(x_test, axis=0))"
   ]
  },
  {
   "cell_type": "markdown",
   "metadata": {},
   "source": [
    "## 1.4. Add a dimension of all ones"
   ]
  },
  {
   "cell_type": "code",
   "execution_count": 4,
   "metadata": {},
   "outputs": [
    {
     "name": "stdout",
     "output_type": "stream",
     "text": [
      "Shape of x_train: (640, 9)\n",
      "Shape of x_test: (128, 9)\n"
     ]
    }
   ],
   "source": [
    "n_train, d = x_train.shape\n",
    "x_train = numpy.concatenate((x_train, numpy.ones((n_train, 1))), axis=1)\n",
    "\n",
    "n_test, d = x_test.shape\n",
    "x_test = numpy.concatenate((x_test, numpy.ones((n_test, 1))), axis=1)\n",
    "\n",
    "print('Shape of x_train: ' + str(x_train.shape))\n",
    "print('Shape of x_test: ' + str(x_test.shape))"
   ]
  },
  {
   "cell_type": "markdown",
   "metadata": {},
   "source": [
    "# Federated Averaging"
   ]
  },
  {
   "cell_type": "markdown",
   "metadata": {},
   "source": [
    "## 2.1 Define Worker Class\n"
   ]
  },
  {
   "cell_type": "code",
   "execution_count": 45,
   "metadata": {},
   "outputs": [],
   "source": [
    "import numpy\n",
    "\n",
    "# Class defining a worker node\n",
    "class Worker:\n",
    "    def __init__(self, x, y, q, batch_size, alpha, beta, lam):\n",
    "        self.x = x # s x d local feature matrix\n",
    "        self.y = y # s x 1 local label matrix\n",
    "        self.s = x.shape[0] # number of local samples\n",
    "        self.d = x.shape[1] # number of features\n",
    "        self.q = q # number of local iterations\n",
    "        self.lam = lam\n",
    "        self.v = numpy.zeros((self.d,1)) # d x 1 \n",
    "        self.batch_size = batch_size\n",
    "        self.alpha = alpha\n",
    "        self.beta = beta\n",
    "        \n",
    "        if 0 != batch_size:\n",
    "            # split into batches\n",
    "            self.x_batch=self.x[:self.x.shape[0]-(self.x.shape[0]%self.batch_size),:]\n",
    "            self.y_batch=self.y[:self.y.shape[0]-(self.y.shape[0]%self.batch_size),:]\n",
    "            \n",
    "            self.x_batch = numpy.array(self.x_batch).reshape((int(self.x_batch.shape[0]/self.batch_size), self.batch_size, self.x_batch.shape[1]))\n",
    "            self.y_batch = numpy.array(self.y_batch).reshape((int(self.y_batch.shape[0]/self.batch_size), self.batch_size, self.y_batch.shape[1]))\n",
    "        else:\n",
    "            self.x_batch = self.x\n",
    "            self.y_batch = self.y\n",
    "        \n",
    "        self.w = numpy.zeros((self.d,1)) # d x 1 model parameter vector\n",
    "        \n",
    "    def set_param(self, w):\n",
    "        self.w = w\n",
    "        \n",
    "    # compute local loss\n",
    "    def loss(self, temp_w):\n",
    "        yx = numpy.multiply(self.y_batch, self.x_batch) # s x d\n",
    "        yxw = numpy.dot(yx, temp_w) # s x 1\n",
    "        vec1 = numpy.exp(-yxw) # s-by-1\n",
    "        vec2 = numpy.log(1+vec1) # s-by-1\n",
    "        return numpy.sum(vec2)\n",
    "        \n",
    "    # compute local gradient\n",
    "    def gradient(self, y, x, temp_w):\n",
    "        yx = numpy.multiply(y, x) # s-by-d\n",
    "        yxw = numpy.dot(yx, temp_w) # s-by-1\n",
    "        vec1 = numpy.exp(yxw) # s-by-1\n",
    "        vec2 = numpy.divide(yx, 1+vec1) # s-by-d\n",
    "        g = -numpy.sum(vec2, axis=0).reshape(self.d, 1) # d-by-1\n",
    "        return g\n",
    "    \n",
    "    def agd(self, g, temp_w):\n",
    "        self.v *= self.beta\n",
    "        self.v += g\n",
    "        temp_w -= self.alpha*self.v\n",
    "        return temp_w\n",
    "        \n",
    "    def objective(self, lam, loss, temp_w):\n",
    "        reg = lam/2 * numpy.sum(temp_w*temp_w)\n",
    "        self.obj = loss/self.s + reg\n",
    "        return self.obj\n",
    "        \n",
    "    def client_update(self):\n",
    "        obj_vals=[]\n",
    "        temp_w = self.w\n",
    "        for i in range(self.q):\n",
    "            # evaluate objective function\n",
    "            local_loss =self.loss(temp_w)\n",
    "            obj_vals.append(self.objective(self.lam, local_loss, temp_w))\n",
    "            for j in range(self.y_batch.shape[0]):\n",
    "                g = self.gradient(self.y_batch[j,:], self.x_batch[j,:], temp_w)\n",
    "                temp_w = self.agd(g, temp_w)\n",
    "        return self.w - temp_w, obj_vals"
   ]
  },
  {
   "cell_type": "code",
   "execution_count": 46,
   "metadata": {},
   "outputs": [
    {
     "data": {
      "text/html": [
       "<style>.container { width:80% !important; }</style>"
      ],
      "text/plain": [
       "<IPython.core.display.HTML object>"
      ]
     },
     "metadata": {},
     "output_type": "display_data"
    }
   ],
   "source": [
    "from IPython.core.display import display, HTML\n",
    "display(HTML(\"<style>.container { width:80% !important; }</style>\"))"
   ]
  },
  {
   "cell_type": "markdown",
   "metadata": {},
   "source": [
    "## 2.2 Define Server Class\n",
    "\n"
   ]
  },
  {
   "cell_type": "code",
   "execution_count": 47,
   "metadata": {},
   "outputs": [],
   "source": [
    "class Server:\n",
    "    def __init__(self, m, n, d, alpha):\n",
    "        self.m = m # workers\n",
    "        self.n = n # training samples\n",
    "        self.d = d # features\n",
    "        self.w = numpy.zeros((d,1)) # d x 1 model parameters\n",
    "        self.g = numpy.zeros((d,1)) # d x 1 gradient\n",
    "        self.p = numpy.zeros((d,1)) # d x 1 received gradient\n",
    "        self.loss = 0 # loss function value\n",
    "        self.obj = 0 # objective function value\n",
    "        self.alpha = alpha\n",
    "        \n",
    "    def broadcast(self):\n",
    "        return self.w\n",
    "        \n",
    "    def aggregate(self, p, losses):\n",
    "        self.p = numpy.mean(numpy.array(p), axis=0)\n",
    "        self.loss = sum(losses)\n",
    "    \n",
    "    def update_step(self):\n",
    "        self.w -= self.alpha*self.p\n",
    "        \n",
    "    def objective(self, lam):\n",
    "        reg = lam/2 * numpy.sum(self.w*self.w)\n",
    "        self.obj = self.loss/self.n + reg\n",
    "        return self.obj"
   ]
  },
  {
   "cell_type": "markdown",
   "metadata": {},
   "source": [
    "# 2.3 Simulation Generation"
   ]
  },
  {
   "cell_type": "code",
   "execution_count": 48,
   "metadata": {},
   "outputs": [],
   "source": [
    "import math\n",
    "\n",
    "def create_server_workers(m,x,y,q,b,alpha,beta,lam):\n",
    "    n,d = x.shape\n",
    "    s = math.floor(n/m)\n",
    "    server = Server(m,n,d,alpha)\n",
    "    \n",
    "    workers = []\n",
    "    for i in range(m):\n",
    "        indices = list(range(i*s, (i+1)*s))\n",
    "        workers.append(Worker(x[indices,:], y[indices,:],q,b, alpha, beta, lam))\n",
    "    return server, workers"
   ]
  },
  {
   "cell_type": "code",
   "execution_count": 49,
   "metadata": {},
   "outputs": [],
   "source": [
    "def predict(w, X):\n",
    "    xw = numpy.dot(X, w)\n",
    "    f = numpy.sign(xw)\n",
    "    return f"
   ]
  },
  {
   "cell_type": "markdown",
   "metadata": {},
   "source": [
    "# 3. Start Simulations"
   ]
  },
  {
   "cell_type": "markdown",
   "metadata": {},
   "source": [
    "## 3.1 Gradient Descent with q=1"
   ]
  },
  {
   "cell_type": "code",
   "execution_count": 50,
   "metadata": {},
   "outputs": [],
   "source": [
    "m = 4 \n",
    "q = 1\n",
    "batch_size = 0\n",
    "alpha = 1E-4\n",
    "beta = 0.99\n",
    "lam = 1E-4\n",
    "\n",
    "server, workers = create_server_workers(m, x_train, y_train, q, batch_size, alpha, beta, lam)"
   ]
  },
  {
   "cell_type": "markdown",
   "metadata": {},
   "source": [
    "Starting Simulation"
   ]
  },
  {
   "cell_type": "code",
   "execution_count": 51,
   "metadata": {
    "scrolled": true
   },
   "outputs": [
    {
     "name": "stdout",
     "output_type": "stream",
     "text": [
      "Objective function value = 0.6931471805599453\n",
      "Objective function value = 0.5080260322103884\n",
      "Objective function value = 0.4531026632683581\n",
      "Objective function value = 0.44533348570888087\n",
      "Objective function value = 0.44360001210270866\n",
      "Objective function value = 0.4427181359797863\n",
      "Objective function value = 0.4426698955024987\n",
      "Objective function value = 0.4428868570212372\n",
      "Objective function value = 0.443055886612056\n",
      "Objective function value = 0.44316645866841237\n",
      "Objective function value = 0.44325204483344854\n",
      "Objective function value = 0.4433099474294785\n",
      "Objective function value = 0.44333765036204204\n",
      "Objective function value = 0.4433475210620668\n",
      "Objective function value = 0.4433513276666131\n",
      "Objective function value = 0.4433533317335204\n",
      "Objective function value = 0.4433542293108568\n",
      "Objective function value = 0.4433544950250013\n",
      "Objective function value = 0.44335460543685634\n",
      "Objective function value = 0.44335471133612203\n",
      "Objective function value = 0.4433547847581429\n",
      "Objective function value = 0.4433548151253311\n",
      "Objective function value = 0.44335482534459053\n",
      "Objective function value = 0.4433548315363278\n",
      "Objective function value = 0.4433548361255507\n",
      "Objective function value = 0.44335483856583824\n",
      "Objective function value = 0.443354839677461\n",
      "Objective function value = 0.4433548403765145\n",
      "Objective function value = 0.4433548408957228\n",
      "Objective function value = 0.443354841209219\n",
      "Objective function value = 0.44335484136246645\n",
      "Objective function value = 0.4433548414386911\n",
      "Objective function value = 0.4433548414835693\n",
      "Objective function value = 0.44335484151017424\n",
      "Objective function value = 0.44335484152426935\n",
      "Objective function value = 0.443354841531528\n",
      "Objective function value = 0.443354841535628\n",
      "Objective function value = 0.4433548415380367\n",
      "Objective function value = 0.44335484153935795\n",
      "Objective function value = 0.44335484154004123\n",
      "Objective function value = 0.44335484154040583\n",
      "Objective function value = 0.4433548415406121\n",
      "Objective function value = 0.44335484154072796\n",
      "Objective function value = 0.4433548415407907\n",
      "Objective function value = 0.4433548415408244\n",
      "Objective function value = 0.44335484154084315\n",
      "Objective function value = 0.4433548415408537\n",
      "Objective function value = 0.4433548415408594\n",
      "Objective function value = 0.4433548415408626\n",
      "Objective function value = 0.4433548415408644\n"
     ]
    }
   ],
   "source": [
    "max_epoch = 50\n",
    "\n",
    "objvals_gd_1 =[]\n",
    "for t in range(math.floor(max_epoch/q)):\n",
    "    # step 1: broadcast\n",
    "    w = server.broadcast()\n",
    "    for i in range(m):\n",
    "        workers[i].set_param(w)\n",
    "        \n",
    "    ps=[]\n",
    "    losses=[]\n",
    "    for i in range(m):\n",
    "        p, obj_val = workers[i].client_update()\n",
    "        ps.append(p)\n",
    "        if i == 0:\n",
    "            for val in obj_val:\n",
    "                print(\"Objective function value = \" + str(val))\n",
    "                objvals_gd_1.append(val)\n",
    "    \n",
    "    # step 3: aggregate workers' outputs\n",
    "    server.aggregate(ps, losses)\n",
    "    server.update_step()   "
   ]
  },
  {
   "cell_type": "markdown",
   "metadata": {},
   "source": [
    "Prediction"
   ]
  },
  {
   "cell_type": "code",
   "execution_count": 52,
   "metadata": {},
   "outputs": [
    {
     "name": "stdout",
     "output_type": "stream",
     "text": [
      "Training error is 0.2203125\n"
     ]
    }
   ],
   "source": [
    "# training error\n",
    "f_train = predict(server.w, x_train)\n",
    "diff = numpy.abs(f_train - y_train) / 2\n",
    "error_train = numpy.mean(diff)\n",
    "print('Training error is ' + str(error_train))"
   ]
  },
  {
   "cell_type": "code",
   "execution_count": 53,
   "metadata": {},
   "outputs": [
    {
     "name": "stdout",
     "output_type": "stream",
     "text": [
      "Test error is 0.2890625\n"
     ]
    }
   ],
   "source": [
    "# testing error\n",
    "f_test = predict(server.w, x_test)\n",
    "diff = numpy.abs(f_test - y_test) / 2\n",
    "error_test = numpy.mean(diff)\n",
    "print('Test error is ' + str(error_test))"
   ]
  },
  {
   "cell_type": "markdown",
   "metadata": {},
   "source": [
    "## 3.2 Gradient Descent with q=8"
   ]
  },
  {
   "cell_type": "code",
   "execution_count": 54,
   "metadata": {},
   "outputs": [],
   "source": [
    "m = 4 \n",
    "q = 8\n",
    "batch_size = 0 \n",
    "alpha = 1E-4\n",
    "beta = 0.99\n",
    "lam = 1E-4\n",
    "\n",
    "server, workers = create_server_workers(m, x_train, y_train, q, batch_size, alpha, beta, lam)"
   ]
  },
  {
   "cell_type": "markdown",
   "metadata": {},
   "source": [
    "Starting simulation"
   ]
  },
  {
   "cell_type": "code",
   "execution_count": 55,
   "metadata": {
    "scrolled": true
   },
   "outputs": [
    {
     "name": "stdout",
     "output_type": "stream",
     "text": [
      "Objective function value = 0.6931471805599453\n",
      "Objective function value = 0.5906031788350308\n",
      "Objective function value = 0.5017502175412806\n",
      "Objective function value = 0.45726029297937604\n",
      "Objective function value = 0.4319614699720779\n",
      "Objective function value = 0.4154413415136325\n",
      "Objective function value = 0.40380123676529334\n",
      "Objective function value = 0.3952192786254188\n",
      "Objective function value = 0.5103011711987562\n",
      "Objective function value = 0.48339993692635047\n",
      "Objective function value = 0.4520362810754041\n",
      "Objective function value = 0.42894060733520617\n",
      "Objective function value = 0.4125411902333522\n",
      "Objective function value = 0.40059091355007237\n",
      "Objective function value = 0.3917129680550475\n",
      "Objective function value = 0.38505372781844205\n",
      "Objective function value = 0.5128530478343504\n",
      "Objective function value = 0.4843889331626463\n",
      "Objective function value = 0.45265837844824897\n",
      "Objective function value = 0.4294200074060247\n",
      "Objective function value = 0.4129315885824009\n",
      "Objective function value = 0.40092138863910937\n",
      "Objective function value = 0.3920035671699851\n",
      "Objective function value = 0.38531617283020064\n",
      "Objective function value = 0.5128392031840121\n",
      "Objective function value = 0.48434981497559876\n",
      "Objective function value = 0.45261357333009744\n",
      "Objective function value = 0.42938015343236086\n",
      "Objective function value = 0.4128988666407808\n",
      "Objective function value = 0.40089549927273505\n",
      "Objective function value = 0.39198366066247997\n",
      "Objective function value = 0.385301215044214\n",
      "Objective function value = 0.512831960565483\n",
      "Objective function value = 0.48434661719148014\n",
      "Objective function value = 0.452611525650179\n",
      "Objective function value = 0.4293786056306328\n",
      "Objective function value = 0.4128976281085833\n",
      "Objective function value = 0.4008944259330909\n",
      "Objective function value = 0.39198264701627805\n",
      "Objective function value = 0.3853002115784963\n",
      "Objective function value = 0.5128322523139108\n",
      "Objective function value = 0.48434689386671853\n",
      "Objective function value = 0.4526117830043586\n",
      "Objective function value = 0.429378822451528\n",
      "Objective function value = 0.41289780521637665\n",
      "Objective function value = 0.40089457268437195\n",
      "Objective function value = 0.3919827723633765\n",
      "Objective function value = 0.3853003215600068\n"
     ]
    }
   ],
   "source": [
    "# Execute Federated Averaging\n",
    "max_epoch = 50\n",
    "\n",
    "objvals_gd_8 =[]\n",
    "for t in range(math.floor(max_epoch/q)):\n",
    "    # step 1: broadcast\n",
    "    w = server.broadcast()\n",
    "    for i in range(m):\n",
    "        workers[i].set_param(w)\n",
    "        \n",
    "    # step 2: workers' local computation\n",
    "    ps=[]\n",
    "    losses=[]\n",
    "    for i in range(m):\n",
    "        p, obj_val = workers[i].client_update()\n",
    "        ps.append(p)\n",
    "        if i == 0:\n",
    "            for val in obj_val:\n",
    "                print(\"Objective function value = \" + str(val))\n",
    "                objvals_gd_8.append(val)\n",
    "    \n",
    "    # step 3: aggregate workers' outputs\n",
    "    server.aggregate(ps, losses)\n",
    "    server.update_step()"
   ]
  },
  {
   "cell_type": "markdown",
   "metadata": {},
   "source": [
    "Prediction"
   ]
  },
  {
   "cell_type": "code",
   "execution_count": 56,
   "metadata": {},
   "outputs": [
    {
     "name": "stdout",
     "output_type": "stream",
     "text": [
      "Training error is 0.2234375\n"
     ]
    }
   ],
   "source": [
    "# training error\n",
    "f_train = predict(server.w, x_train)\n",
    "diff = numpy.abs(f_train - y_train) / 2\n",
    "error_train = numpy.mean(diff)\n",
    "print('Training error is ' + str(error_train))"
   ]
  },
  {
   "cell_type": "code",
   "execution_count": 57,
   "metadata": {},
   "outputs": [
    {
     "name": "stdout",
     "output_type": "stream",
     "text": [
      "Test error is 0.3046875\n"
     ]
    }
   ],
   "source": [
    "# test error\n",
    "f_test = predict(server.w, x_test)\n",
    "diff = numpy.abs(f_test - y_test) / 2\n",
    "error_test = numpy.mean(diff)\n",
    "print('Test error is ' + str(error_test))"
   ]
  },
  {
   "cell_type": "markdown",
   "metadata": {},
   "source": [
    "## 3.3 Stochastic Gradient Descent with q=1"
   ]
  },
  {
   "cell_type": "code",
   "execution_count": 58,
   "metadata": {},
   "outputs": [],
   "source": [
    "m = 4 \n",
    "q = 1\n",
    "batch_size = 1 \n",
    "alpha = 1E-4\n",
    "beta = 0.99\n",
    "lam = 1E-4\n",
    "\n",
    "server, workers = create_server_workers(m, x_train, y_train, q, batch_size, alpha, beta, lam)"
   ]
  },
  {
   "cell_type": "markdown",
   "metadata": {},
   "source": [
    "Starting Simulation"
   ]
  },
  {
   "cell_type": "code",
   "execution_count": 59,
   "metadata": {
    "scrolled": true
   },
   "outputs": [
    {
     "name": "stdout",
     "output_type": "stream",
     "text": [
      "Objective function value = 0.6931471805599453\n",
      "Objective function value = 0.5080260322103884\n",
      "Objective function value = 0.4531026632683581\n",
      "Objective function value = 0.44533348570888087\n",
      "Objective function value = 0.44360001210270866\n",
      "Objective function value = 0.4427181359797863\n",
      "Objective function value = 0.4426698955024987\n",
      "Objective function value = 0.4428868570212372\n",
      "Objective function value = 0.443055886612056\n",
      "Objective function value = 0.44316645866841237\n",
      "Objective function value = 0.44325204483344854\n",
      "Objective function value = 0.4433099474294785\n",
      "Objective function value = 0.44333765036204204\n",
      "Objective function value = 0.4433475210620668\n",
      "Objective function value = 0.4433513276666132\n",
      "Objective function value = 0.4433533317335204\n",
      "Objective function value = 0.4433542293108568\n",
      "Objective function value = 0.4433544950250013\n",
      "Objective function value = 0.44335460543685634\n",
      "Objective function value = 0.443354711336122\n",
      "Objective function value = 0.44335478475814294\n",
      "Objective function value = 0.4433548151253311\n",
      "Objective function value = 0.4433548253445904\n",
      "Objective function value = 0.44335483153632776\n",
      "Objective function value = 0.4433548361255507\n",
      "Objective function value = 0.44335483856583824\n",
      "Objective function value = 0.443354839677461\n",
      "Objective function value = 0.4433548403765145\n",
      "Objective function value = 0.4433548408957228\n",
      "Objective function value = 0.443354841209219\n",
      "Objective function value = 0.44335484136246633\n",
      "Objective function value = 0.4433548414386911\n",
      "Objective function value = 0.4433548414835693\n",
      "Objective function value = 0.44335484151017424\n",
      "Objective function value = 0.44335484152426935\n",
      "Objective function value = 0.443354841531528\n",
      "Objective function value = 0.4433548415356281\n",
      "Objective function value = 0.4433548415380366\n",
      "Objective function value = 0.44335484153935806\n",
      "Objective function value = 0.44335484154004123\n",
      "Objective function value = 0.44335484154040583\n",
      "Objective function value = 0.443354841540612\n",
      "Objective function value = 0.4433548415407281\n",
      "Objective function value = 0.4433548415407907\n",
      "Objective function value = 0.4433548415408244\n",
      "Objective function value = 0.44335484154084315\n",
      "Objective function value = 0.4433548415408537\n",
      "Objective function value = 0.4433548415408594\n",
      "Objective function value = 0.4433548415408626\n",
      "Objective function value = 0.4433548415408644\n"
     ]
    }
   ],
   "source": [
    "max_epoch = 50\n",
    "objvals_sgd_1 =[]\n",
    "\n",
    "for t in range(math.floor(max_epoch/q)):\n",
    "    # step 1: broadcast\n",
    "    w = server.broadcast()\n",
    "    for i in range(m):\n",
    "        workers[i].set_param(w)\n",
    "        \n",
    "\n",
    "    ps=[]\n",
    "    losses=[]\n",
    "    for i in range(m):\n",
    "        p, obj_val = workers[i].client_update()\n",
    "        ps.append(p)\n",
    "        if i == 0:\n",
    "            for val in obj_val:\n",
    "                print(\"Objective function value = \" + str(val))\n",
    "                objvals_sgd_1.append(val)\n",
    "    \n",
    "\n",
    "    server.aggregate(ps, losses)\n",
    "    server.update_step() "
   ]
  },
  {
   "cell_type": "markdown",
   "metadata": {},
   "source": [
    "Prediction"
   ]
  },
  {
   "cell_type": "code",
   "execution_count": 60,
   "metadata": {},
   "outputs": [
    {
     "name": "stdout",
     "output_type": "stream",
     "text": [
      "Training classification error is 0.2203125\n"
     ]
    }
   ],
   "source": [
    "f_train = predict(server.w, x_train)\n",
    "diff = numpy.abs(f_train - y_train) / 2\n",
    "error_train = numpy.mean(diff)\n",
    "print('Training classification error is ' + str(error_train))"
   ]
  },
  {
   "cell_type": "code",
   "execution_count": 61,
   "metadata": {},
   "outputs": [
    {
     "name": "stdout",
     "output_type": "stream",
     "text": [
      "Test classification error is 0.2890625\n"
     ]
    }
   ],
   "source": [
    "f_test = predict(server.w, x_test)\n",
    "diff = numpy.abs(f_test - y_test) / 2\n",
    "error_test = numpy.mean(diff)\n",
    "print('Test classification error is ' + str(error_test))"
   ]
  },
  {
   "cell_type": "markdown",
   "metadata": {},
   "source": [
    "## 3.4 Stochastic Gradient Descent with q=8"
   ]
  },
  {
   "cell_type": "code",
   "execution_count": 62,
   "metadata": {},
   "outputs": [],
   "source": [
    "m = 4 \n",
    "q = 8\n",
    "batch_size = 1 \n",
    "alpha = 1E-4\n",
    "beta = 0.99\n",
    "lam = 1E-4\n",
    "\n",
    "server, workers = create_server_workers(m, x_train, y_train, q, batch_size, alpha, beta, lam)"
   ]
  },
  {
   "cell_type": "markdown",
   "metadata": {},
   "source": [
    "Starting Simulation"
   ]
  },
  {
   "cell_type": "code",
   "execution_count": 63,
   "metadata": {
    "scrolled": true
   },
   "outputs": [
    {
     "name": "stdout",
     "output_type": "stream",
     "text": [
      "Objective function value = 0.6931471805599453\n",
      "Objective function value = 0.5906031788350308\n",
      "Objective function value = 0.5017502175412806\n",
      "Objective function value = 0.45726029297937604\n",
      "Objective function value = 0.4319614699720779\n",
      "Objective function value = 0.4154413415136325\n",
      "Objective function value = 0.40380123676529334\n",
      "Objective function value = 0.3952192786254188\n",
      "Objective function value = 0.5103011711987562\n",
      "Objective function value = 0.4833999369263503\n",
      "Objective function value = 0.4520362810754041\n",
      "Objective function value = 0.42894060733520617\n",
      "Objective function value = 0.4125411902333522\n",
      "Objective function value = 0.40059091355007237\n",
      "Objective function value = 0.3917129680550476\n",
      "Objective function value = 0.38505372781844205\n",
      "Objective function value = 0.5128530478343506\n",
      "Objective function value = 0.4843889331626463\n",
      "Objective function value = 0.4526583784482491\n",
      "Objective function value = 0.4294200074060247\n",
      "Objective function value = 0.4129315885824009\n",
      "Objective function value = 0.4009213886391094\n",
      "Objective function value = 0.39200356716998513\n",
      "Objective function value = 0.38531617283020064\n",
      "Objective function value = 0.5128392031840121\n",
      "Objective function value = 0.48434981497559876\n",
      "Objective function value = 0.45261357333009744\n",
      "Objective function value = 0.42938015343236086\n",
      "Objective function value = 0.41289886664078074\n",
      "Objective function value = 0.40089549927273505\n",
      "Objective function value = 0.39198366066247997\n",
      "Objective function value = 0.38530121504421394\n",
      "Objective function value = 0.5128319605654831\n",
      "Objective function value = 0.48434661719148014\n",
      "Objective function value = 0.452611525650179\n",
      "Objective function value = 0.4293786056306328\n",
      "Objective function value = 0.4128976281085833\n",
      "Objective function value = 0.4008944259330909\n",
      "Objective function value = 0.39198264701627805\n",
      "Objective function value = 0.38530021157849637\n",
      "Objective function value = 0.5128322523139108\n",
      "Objective function value = 0.48434689386671853\n",
      "Objective function value = 0.4526117830043586\n",
      "Objective function value = 0.429378822451528\n",
      "Objective function value = 0.41289780521637665\n",
      "Objective function value = 0.40089457268437195\n",
      "Objective function value = 0.3919827723633765\n",
      "Objective function value = 0.3853003215600068\n"
     ]
    }
   ],
   "source": [
    "max_epoch = 50\n",
    "objvals_sgd_8 =[]\n",
    "\n",
    "for t in range(math.floor(max_epoch/q)):\n",
    "    # step 1: broadcast\n",
    "    w = server.broadcast()\n",
    "    for i in range(m):\n",
    "        workers[i].set_param(w)\n",
    "\n",
    "    ps=[]\n",
    "    losses=[]\n",
    "    for i in range(m):\n",
    "        p, obj_val = workers[i].client_update()\n",
    "        ps.append(p)\n",
    "        if i == 0:\n",
    "            for val in obj_val:\n",
    "                print(\"Objective function value = \" + str(val))\n",
    "                objvals_sgd_8.append(val)\n",
    "    \n",
    "    server.aggregate(ps, losses)\n",
    "    server.update_step()    "
   ]
  },
  {
   "cell_type": "markdown",
   "metadata": {},
   "source": [
    "Prediction"
   ]
  },
  {
   "cell_type": "code",
   "execution_count": 64,
   "metadata": {},
   "outputs": [
    {
     "name": "stdout",
     "output_type": "stream",
     "text": [
      "Training classification error is 0.2234375\n"
     ]
    }
   ],
   "source": [
    "f_train = predict(server.w, x_train)\n",
    "diff = numpy.abs(f_train - y_train) / 2\n",
    "error_train = numpy.mean(diff)\n",
    "print('Training classification error is ' + str(error_train))"
   ]
  },
  {
   "cell_type": "code",
   "execution_count": 65,
   "metadata": {},
   "outputs": [
    {
     "name": "stdout",
     "output_type": "stream",
     "text": [
      "Test classification error is 0.3046875\n"
     ]
    }
   ],
   "source": [
    "f_test = predict(server.w, x_test)\n",
    "diff = numpy.abs(f_test - y_test) / 2\n",
    "error_test = numpy.mean(diff)\n",
    "print('Test classification error is ' + str(error_test))"
   ]
  },
  {
   "cell_type": "markdown",
   "metadata": {},
   "source": [
    "# Plotting and comparing GD with q=1, GD with q=8, SGD with q=1, and SGD with q=8\n",
    " "
   ]
  },
  {
   "cell_type": "code",
   "execution_count": 82,
   "metadata": {},
   "outputs": [
    {
     "data": {
      "image/png": "[encoded data removed]",
      "text/plain": [
       "<Figure size 432x288 with 1 Axes>"
      ]
     },
     "metadata": {
      "needs_background": "light"
     },
     "output_type": "display_data"
    }
   ],
   "source": [
    "\n",
    "import matplotlib.pyplot as plt\n",
    "%matplotlib inline\n",
    "\n",
    "fig = plt.figure(figsize=(6, 4))\n",
    "\n",
    "epochs_gd_1 = range(len(objvals_gd_1))\n",
    "epochs_gd_8 = range(len(objvals_gd_8))\n",
    "\n",
    "\n",
    "line0, = plt.plot(epochs_gd_1, objvals_gd_1, '--b', LineWidth=1.5)\n",
    "line1, = plt.plot(epochs_gd_8, objvals_gd_8, '--r', LineWidth=1.5)\n",
    "\n",
    "plt.xlabel('Epochs', FontSize=20)\n",
    "plt.ylabel('Objective Value', FontSize=20)\n",
    "plt.xticks(FontSize=8)\n",
    "plt.yticks(FontSize=8)\n",
    "plt.legend([line0, line1], ['GD q=1', 'GD q=8'], fontsize=15)\n",
    "plt.show()"
   ]
  },
  {
   "cell_type": "code",
   "execution_count": 87,
   "metadata": {},
   "outputs": [
    {
     "data": {
      "image/png": "[encoded data removed]",
      "text/plain": [
       "<Figure size 432x288 with 1 Axes>"
      ]
     },
     "metadata": {
      "needs_background": "light"
     },
     "output_type": "display_data"
    }
   ],
   "source": [
    "fig = plt.figure(figsize=(6, 4))\n",
    "\n",
    "epochs_sgd_1 = range(len(objvals_sgd_1))\n",
    "epochs_sgd_8 = range(len(objvals_sgd_8))\n",
    "\n",
    "line0, = plt.plot(epochs_sgd_1, objvals_sgd_1, '--y', LineWidth=1.5)\n",
    "line1, = plt.plot(epochs_sgd_8, objvals_sgd_8, '--g', LineWidth=1.5)\n",
    "\n",
    "plt.xlabel('Epochs', FontSize=20)\n",
    "plt.ylabel('Objective Value', FontSize=20)\n",
    "plt.xticks(FontSize=8)\n",
    "plt.yticks(FontSize=8)\n",
    "plt.legend([line0, line1], [ 'SGD q=1', 'SGD q=8'], fontsize=15)\n",
    "plt.show()"
   ]
  },
  {
   "cell_type": "code",
   "execution_count": 88,
   "metadata": {},
   "outputs": [
    {
     "data": {
      "image/png": "[encoded data removed]",
      "text/plain": [
       "<Figure size 432x288 with 1 Axes>"
      ]
     },
     "metadata": {
      "needs_background": "light"
     },
     "output_type": "display_data"
    }
   ],
   "source": [
    "fig = plt.figure(figsize=(6, 4))\n",
    "\n",
    "epochs_gd_1 = range(len(objvals_gd_1))\n",
    "epochs_gd_8 = range(len(objvals_gd_8))\n",
    "epochs_sgd_1 = range(len(objvals_sgd_1))\n",
    "epochs_sgd_8 = range(len(objvals_sgd_8))\n",
    "\n",
    "line0, = plt.plot(epochs_gd_1, objvals_gd_1, '-b', LineWidth=1)\n",
    "line1, = plt.plot(epochs_gd_8, objvals_gd_8, '-r', LineWidth=1)\n",
    "line2, = plt.plot(epochs_sgd_1, objvals_sgd_1, '--y', LineWidth=1.5)\n",
    "line3, = plt.plot(epochs_sgd_8, objvals_sgd_8, '--g', LineWidth=1.5)\n",
    "\n",
    "plt.xlabel('Epochs', FontSize=20)\n",
    "plt.ylabel('Objective Value', FontSize=20)\n",
    "plt.xticks(FontSize=8)\n",
    "plt.yticks(FontSize=8)\n",
    "plt.legend([line0, line1, line2, line3], ['GD q=1', 'GD q=8', 'SGD q=1', 'SGD q=8'], fontsize=15)\n",
    "plt.show()\n",
    "\n"
   ]
  },
  {
   "cell_type": "code",
   "execution_count": 89,
   "metadata": {},
   "outputs": [],
   "source": [
    "fig.savefig('compare_gd_sgd.pdf', format='pdf', dpi=15000)"
   ]
  },
  {
   "cell_type": "code",
   "execution_count": null,
   "metadata": {},
   "outputs": [],
   "source": []
  }
 ],
 "metadata": {
  "kernelspec": {
   "display_name": "Python 3",
   "language": "python",
   "name": "python3"
  },
  "language_info": {
   "codemirror_mode": {
    "name": "ipython",
    "version": 3
   },
   "file_extension": ".py",
   "mimetype": "text/x-python",
   "name": "python",
   "nbconvert_exporter": "python",
   "pygments_lexer": "ipython3",
   "version": "3.7.6"
  }
 },
 "nbformat": 4,
 "nbformat_minor": 2
}
