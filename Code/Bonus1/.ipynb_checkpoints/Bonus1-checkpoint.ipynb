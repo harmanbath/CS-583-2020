{
 "cells": [
  {
   "cell_type": "markdown",
   "metadata": {},
   "source": [
    "# Bonus1: Parallel Algorithms : Federated averaging\n",
    "\n",
    "\n",
    "### Name: Harman Singh \n"
   ]
  },
  {
   "cell_type": "markdown",
   "metadata": {},
   "source": [
    "## 0. You will do the following:\n",
    "\n",
    "1. Read the lecture note: [click here](https://github.com/wangshusen/DeepLearning/blob/master/LectureNotes/Parallel/Parallel.pdf)\n",
    "\n",
    "2. Implement federated averaging or decentralized optimization.\n",
    "\n",
    "3. Plot the convergence curve. (The x-axis can be ```number of epochs``` or ```number of communication```. You must make sure the label is correct.)\n",
    "\n",
    "4. Convert the .IPYNB file to .HTML file.\n",
    "\n",
    "    * The HTML file must contain **the code** and **the output after execution**.\n",
    "    \n",
    "5. Upload this .HTML file to your Google Drive, Dropbox, or your Github repo. (If it is submitted to Google Drive or Dropbox, you must make the file open-access.)\n",
    "\n",
    "6. Submit the link to this .HTML file to Canvas.\n",
    "\n",
    "    * Example: https://github.com/wangshusen/CS583-2020S/blob/master/homework/Bonus1/Bonus1.html\n",
    "\n"
   ]
  },
  {
   "cell_type": "code",
   "execution_count": null,
   "metadata": {},
   "outputs": [],
   "source": []
  },
  {
   "cell_type": "markdown",
   "metadata": {},
   "source": [
    "# 1. Data processing\n",
    "\n",
    "- Download the Diabete dataset from https://www.csie.ntu.edu.tw/~cjlin/libsvmtools/datasets/binary/diabetes\n",
    "- Load the data using sklearn.\n",
    "- Preprocess the data."
   ]
  },
  {
   "cell_type": "markdown",
   "metadata": {},
   "source": [
    "## 1.1. Load the data"
   ]
  },
  {
   "cell_type": "code",
   "execution_count": 117,
   "metadata": {},
   "outputs": [
    {
     "name": "stdout",
     "output_type": "stream",
     "text": [
      "Shape of x: (768, 8)\n",
      "Shape of y: (768,)\n"
     ]
    }
   ],
   "source": [
    "from sklearn import datasets\n",
    "import numpy\n",
    "\n",
    "x_sparse, y = datasets.load_svmlight_file('diabetes')\n",
    "x = x_sparse.todense()\n",
    "\n",
    "print('Shape of x: ' + str(x.shape))\n",
    "print('Shape of y: ' + str(y.shape))"
   ]
  },
  {
   "cell_type": "markdown",
   "metadata": {},
   "source": [
    "## 1.2. Partition to training and test sets"
   ]
  },
  {
   "cell_type": "code",
   "execution_count": 118,
   "metadata": {},
   "outputs": [
    {
     "name": "stdout",
     "output_type": "stream",
     "text": [
      "Shape of x_train: (640, 8)\n",
      "Shape of x_test: (128, 8)\n",
      "Shape of y_train: (640, 1)\n",
      "Shape of y_test: (128, 1)\n"
     ]
    }
   ],
   "source": [
    "# partition the data to training and test sets\n",
    "n = x.shape[0]\n",
    "n_train = 640\n",
    "n_test = n - n_train\n",
    "\n",
    "rand_indices = numpy.random.permutation(n)\n",
    "train_indices = rand_indices[0:n_train]\n",
    "test_indices = rand_indices[n_train:n]\n",
    "\n",
    "x_train = x[train_indices, :]\n",
    "x_test = x[test_indices, :]\n",
    "y_train = y[train_indices].reshape(n_train, 1)\n",
    "y_test = y[test_indices].reshape(n_test, 1)\n",
    "\n",
    "print('Shape of x_train: ' + str(x_train.shape))\n",
    "print('Shape of x_test: ' + str(x_test.shape))\n",
    "print('Shape of y_train: ' + str(y_train.shape))\n",
    "print('Shape of y_test: ' + str(y_test.shape))"
   ]
  },
  {
   "cell_type": "markdown",
   "metadata": {},
   "source": [
    "## 1.3. Feature scaling"
   ]
  },
  {
   "cell_type": "markdown",
   "metadata": {},
   "source": [
    "Use the standardization to trainsform both training and test features"
   ]
  },
  {
   "cell_type": "code",
   "execution_count": 119,
   "metadata": {},
   "outputs": [
    {
     "name": "stdout",
     "output_type": "stream",
     "text": [
      "test mean = \n",
      "[[-0.01726336  0.02121037 -0.00860739 -0.11998018 -0.12978524  0.08110344\n",
      "   0.1248443   0.00092351]]\n",
      "test std = \n",
      "[[1.03263395 0.89640282 1.08587899 0.97480712 0.76547193 0.99828973\n",
      "  1.14766517 0.95305657]]\n"
     ]
    }
   ],
   "source": [
    "# Standardization\n",
    "import numpy\n",
    "\n",
    "# calculate mu and sig using the training set\n",
    "d = x_train.shape[1]\n",
    "mu = numpy.mean(x_train, axis=0).reshape(1, d)\n",
    "sig = numpy.std(x_train, axis=0).reshape(1, d)\n",
    "\n",
    "# transform the training features\n",
    "x_train = (x_train - mu) / (sig + 1E-6)\n",
    "\n",
    "# transform the test features\n",
    "x_test = (x_test - mu) / (sig + 1E-6)\n",
    "\n",
    "print('test mean = ')\n",
    "print(numpy.mean(x_test, axis=0))\n",
    "\n",
    "print('test std = ')\n",
    "print(numpy.std(x_test, axis=0))"
   ]
  },
  {
   "cell_type": "markdown",
   "metadata": {},
   "source": [
    "## 1.4. Add a dimension of all ones"
   ]
  },
  {
   "cell_type": "code",
   "execution_count": 120,
   "metadata": {},
   "outputs": [
    {
     "name": "stdout",
     "output_type": "stream",
     "text": [
      "Shape of x_train: (640, 9)\n",
      "Shape of x_test: (128, 9)\n"
     ]
    }
   ],
   "source": [
    "n_train, d = x_train.shape\n",
    "x_train = numpy.concatenate((x_train, numpy.ones((n_train, 1))), axis=1)\n",
    "\n",
    "n_test, d = x_test.shape\n",
    "x_test = numpy.concatenate((x_test, numpy.ones((n_test, 1))), axis=1)\n",
    "\n",
    "print('Shape of x_train: ' + str(x_train.shape))\n",
    "print('Shape of x_test: ' + str(x_test.shape))"
   ]
  },
  {
   "cell_type": "markdown",
   "metadata": {},
   "source": [
    "# Federated Averaging"
   ]
  },
  {
   "cell_type": "markdown",
   "metadata": {},
   "source": [
    "## 2.1 Define Worker Class\n"
   ]
  },
  {
   "cell_type": "code",
   "execution_count": 207,
   "metadata": {},
   "outputs": [],
   "source": [
    "import numpy\n",
    "\n",
    "# Class defining a worker node\n",
    "class Worker:\n",
    "    def __init__(self, x, y, q, batch_size, alpha, beta, lam):\n",
    "        self.x = x # s x d local feature matrix\n",
    "        self.y = y # s x 1 local label matrix\n",
    "        self.s = x.shape[0] # number of local samples\n",
    "        self.d = x.shape[1] # number of features\n",
    "        self.q = q # number of local iterations\n",
    "        self.lam = lam\n",
    "        self.v = numpy.zeros((self.d,1)) # d x 1 \n",
    "        self.batch_size = batch_size\n",
    "        self.alpha = alpha\n",
    "        self.beta = beta\n",
    "        \n",
    "        if 0 != batch_size:\n",
    "            # split into batches\n",
    "            self.x_batch=self.x[:self.x.shape[0]-(self.x.shape[0]%self.batch_size),:]\n",
    "            self.y_batch=self.y[:self.y.shape[0]-(self.y.shape[0]%self.batch_size),:]\n",
    "\n",
    "            # randomly shuffle the samples\n",
    "            rand_indices = numpy.random.permutation(self.x_batch.shape[0])\n",
    "            x_rand = self.x_batch[rand_indices, :]\n",
    "            y_rand = self.y_batch[rand_indices, :]\n",
    "\n",
    "            # re-arrange samples according to batch size\n",
    "            if(0 == (x_rand.shape[0]%self.batch_size)):\n",
    "                x_rand = numpy.array(x_rand).reshape((int(x_rand.shape[0]/self.batch_size), self.batch_size, x_rand.shape[1]))\n",
    "                y_rand = numpy.array(y_rand).reshape((int(y_rand.shape[0]/self.batch_size), self.batch_size, y_rand.shape[1]))\n",
    "            else:\n",
    "                print(\"verify data pre-processing\")\n",
    "\n",
    "            self.x_batch=x_rand\n",
    "            self.y_batch=y_rand\n",
    "            print(self.x_batch.shape, self.y_batch.shape)\n",
    "        else:\n",
    "            # randomly shuffle the samples\n",
    "            rand_indices = numpy.random.permutation(self.s)\n",
    "            self.x_batch = self.x[rand_indices, :]\n",
    "            self.y_batch = self.y[rand_indices, :]\n",
    "        \n",
    "        self.w = numpy.zeros((self.d,1)) # d x 1 model parameter vector\n",
    "        \n",
    "    def set_param(self, w):\n",
    "        self.w = w\n",
    "        \n",
    "    # compute local loss\n",
    "    def loss(self, temp_w):\n",
    "        yx = numpy.multiply(self.y_batch, self.x_batch) # s x d\n",
    "        yxw = numpy.dot(yx, temp_w) # s x 1\n",
    "        vec1 = numpy.exp(-yxw) # s-by-1\n",
    "        vec2 = numpy.log(1+vec1) # s-by-1\n",
    "        return numpy.sum(vec2)\n",
    "        \n",
    "    # compute local gradient\n",
    "    def gradient(self, y, x, temp_w):\n",
    "        yx = numpy.multiply(y, x) # s-by-d\n",
    "        yxw = numpy.dot(yx, temp_w) # s-by-1\n",
    "        vec1 = numpy.exp(yxw) # s-by-1\n",
    "        vec2 = numpy.divide(yx, 1+vec1) # s-by-d\n",
    "        g = -numpy.sum(vec2, axis=0).reshape(self.d, 1) # d-by-1\n",
    "        return g\n",
    "    \n",
    "    def agd(self, g, temp_w):\n",
    "        self.v *= self.beta\n",
    "        self.v += g\n",
    "        temp_w -= self.alpha*self.v\n",
    "        return temp_w\n",
    "        \n",
    "    def objective(self, lam, loss, temp_w):\n",
    "        reg = lam/2 * numpy.sum(temp_w*temp_w)\n",
    "        self.obj = loss/self.s + reg\n",
    "        return self.obj\n",
    "        \n",
    "    def client_update(self):\n",
    "        obj_vals=[]\n",
    "        temp_w = self.w\n",
    "        for i in range(self.q):\n",
    "            # evaluate objective function\n",
    "            local_loss =self.loss(temp_w)\n",
    "            obj_vals.append(self.objective(self.lam, local_loss, temp_w))\n",
    "            for j in range(self.y_batch.shape[0]):\n",
    "                g = self.gradient(self.y_batch[j,:], self.x_batch[j,:], temp_w)\n",
    "                temp_w = self.agd(g, temp_w)\n",
    "        return self.w - temp_w, obj_vals"
   ]
  },
  {
   "cell_type": "code",
   "execution_count": 199,
   "metadata": {},
   "outputs": [
    {
     "data": {
      "text/html": [
       "<style>.container { width:80% !important; }</style>"
      ],
      "text/plain": [
       "<IPython.core.display.HTML object>"
      ]
     },
     "metadata": {},
     "output_type": "display_data"
    }
   ],
   "source": [
    "from IPython.core.display import display, HTML\n",
    "display(HTML(\"<style>.container { width:80% !important; }</style>\"))"
   ]
  },
  {
   "cell_type": "markdown",
   "metadata": {},
   "source": [
    "## 2.2 Define Server Class\n",
    "\n"
   ]
  },
  {
   "cell_type": "code",
   "execution_count": 209,
   "metadata": {},
   "outputs": [],
   "source": [
    "class Server:\n",
    "    def __init__(self, m, n, d, alpha):\n",
    "        self.m = m # workers\n",
    "        self.n = n # training samples\n",
    "        self.d = d # features\n",
    "        self.w = numpy.zeros((d,1)) # d x 1 model parameters\n",
    "        self.g = numpy.zeros((d,1)) # d x 1 gradient\n",
    "        self.p = numpy.zeros((d,1)) # d x 1 received gradient\n",
    "        self.loss = 0 # loss function value\n",
    "        self.obj = 0 # objective function value\n",
    "        self.alpha = alpha\n",
    "        \n",
    "    def broadcast(self):\n",
    "        return self.w\n",
    "        \n",
    "    def aggregate(self, p, losses):\n",
    "        self.p = numpy.mean(numpy.array(p), axis=0)\n",
    "        self.loss = sum(losses)\n",
    "    \n",
    "    def update_step(self):\n",
    "        self.w -= self.alpha*self.p\n",
    "        \n",
    "    def objective(self, lam):\n",
    "        reg = lam/2 * numpy.sum(self.w*self.w)\n",
    "        self.obj = self.loss/self.n + reg\n",
    "        return self.obj"
   ]
  },
  {
   "cell_type": "markdown",
   "metadata": {},
   "source": [
    "# 2.3 Simulation Generation"
   ]
  },
  {
   "cell_type": "code",
   "execution_count": 210,
   "metadata": {},
   "outputs": [],
   "source": [
    "import math\n",
    "\n",
    "def create_server_workers(m,x,y,q,b,alpha,beta,lam):\n",
    "    n,d = x.shape\n",
    "    s = math.floor(n/m)\n",
    "    server = Server(m,n,d,alpha)\n",
    "    \n",
    "    workers = []\n",
    "    for i in range(m):\n",
    "        indices = list(range(i*s, (i+1)*s))\n",
    "        workers.append(Worker(x[indices,:], y[indices,:],q,b, alpha, beta, lam))\n",
    "    return server, workers"
   ]
  },
  {
   "cell_type": "code",
   "execution_count": 202,
   "metadata": {},
   "outputs": [],
   "source": [
    "def predict(w, X):\n",
    "    xw = numpy.dot(X, w)\n",
    "    f = numpy.sign(xw)\n",
    "    return f"
   ]
  },
  {
   "cell_type": "markdown",
   "metadata": {},
   "source": [
    "# 3. Start Simulations"
   ]
  },
  {
   "cell_type": "markdown",
   "metadata": {},
   "source": [
    "## 3.1 Gradient Descent with q=1"
   ]
  },
  {
   "cell_type": "code",
   "execution_count": 212,
   "metadata": {},
   "outputs": [],
   "source": [
    "m = 4 \n",
    "q = 1\n",
    "batch_size = 0\n",
    "alpha = 1E-4\n",
    "beta = 0.99\n",
    "lam = 1E-4\n",
    "\n",
    "server, workers = create_server_workers(m, x_train, y_train, q, batch_size, alpha, beta, lam)"
   ]
  },
  {
   "cell_type": "markdown",
   "metadata": {},
   "source": [
    "Starting Simulation"
   ]
  },
  {
   "cell_type": "code",
   "execution_count": 213,
   "metadata": {
    "scrolled": true
   },
   "outputs": [
    {
     "name": "stdout",
     "output_type": "stream",
     "text": [
      "Objective function value = 0.6931471805599453\n",
      "Objective function value = 0.5128579292269219\n",
      "Objective function value = 0.45314379539963884\n",
      "Objective function value = 0.450893830947052\n",
      "Objective function value = 0.4546694632106661\n",
      "Objective function value = 0.45500910252029464\n",
      "Objective function value = 0.45440263082665444\n",
      "Objective function value = 0.45403328916698243\n",
      "Objective function value = 0.453917016848118\n",
      "Objective function value = 0.453878638930144\n",
      "Objective function value = 0.45388110142907745\n",
      "Objective function value = 0.4539057934938821\n",
      "Objective function value = 0.4539233421496622\n",
      "Objective function value = 0.45392524889562347\n",
      "Objective function value = 0.453921024103236\n",
      "Objective function value = 0.4539185390718082\n",
      "Objective function value = 0.4539183815905215\n",
      "Objective function value = 0.4539187519107458\n",
      "Objective function value = 0.45391888293158095\n",
      "Objective function value = 0.45391887731486924\n",
      "Objective function value = 0.4539188743624883\n",
      "Objective function value = 0.4539188780839099\n",
      "Objective function value = 0.45391887428630656\n",
      "Objective function value = 0.45391886935887243\n",
      "Objective function value = 0.45391886871081544\n",
      "Objective function value = 0.453918870042029\n",
      "Objective function value = 0.4539188706750977\n",
      "Objective function value = 0.4539188705507144\n",
      "Objective function value = 0.4539188703827308\n",
      "Objective function value = 0.4539188703681694\n",
      "Objective function value = 0.4539188703934699\n",
      "Objective function value = 0.45391887039715384\n",
      "Objective function value = 0.4539188703923953\n",
      "Objective function value = 0.45391887039188744\n",
      "Objective function value = 0.4539188703932354\n",
      "Objective function value = 0.45391887039342343\n",
      "Objective function value = 0.45391887039299833\n",
      "Objective function value = 0.4539188703928538\n",
      "Objective function value = 0.4539188703929411\n",
      "Objective function value = 0.4539188703929994\n",
      "Objective function value = 0.45391887039299245\n",
      "Objective function value = 0.4539188703929781\n",
      "Objective function value = 0.4539188703929767\n",
      "Objective function value = 0.4539188703929789\n",
      "Objective function value = 0.4539188703929792\n",
      "Objective function value = 0.45391887039297873\n",
      "Objective function value = 0.4539188703929787\n",
      "Objective function value = 0.453918870392979\n",
      "Objective function value = 0.4539188703929789\n",
      "Objective function value = 0.45391887039297885\n"
     ]
    }
   ],
   "source": [
    "max_epoch = 50\n",
    "\n",
    "objvals_gd_1 =[]\n",
    "for t in range(math.floor(max_epoch/q)):\n",
    "    # step 1: broadcast\n",
    "    w = server.broadcast()\n",
    "    for i in range(m):\n",
    "        workers[i].set_param(w)\n",
    "        \n",
    "    ps=[]\n",
    "    losses=[]\n",
    "    for i in range(m):\n",
    "        p, obj_val = workers[i].client_update()\n",
    "        ps.append(p)\n",
    "        if i == 0:\n",
    "            for val in obj_val:\n",
    "                print(\"Objective function value = \" + str(val))\n",
    "                objvals_gd_1.append(val)\n",
    "    \n",
    "    # step 3: aggregate workers' outputs\n",
    "    server.aggregate(ps, losses)\n",
    "    server.update_step()   "
   ]
  },
  {
   "cell_type": "markdown",
   "metadata": {},
   "source": [
    "Prediction"
   ]
  },
  {
   "cell_type": "code",
   "execution_count": 214,
   "metadata": {},
   "outputs": [
    {
     "name": "stdout",
     "output_type": "stream",
     "text": [
      "Training error is 0.2359375\n"
     ]
    }
   ],
   "source": [
    "# training error\n",
    "f_train = predict(server.w, x_train)\n",
    "diff = numpy.abs(f_train - y_train) / 2\n",
    "error_train = numpy.mean(diff)\n",
    "print('Training error is ' + str(error_train))"
   ]
  },
  {
   "cell_type": "code",
   "execution_count": 215,
   "metadata": {},
   "outputs": [
    {
     "name": "stdout",
     "output_type": "stream",
     "text": [
      "Test error is 0.1953125\n"
     ]
    }
   ],
   "source": [
    "# testing error\n",
    "f_test = predict(server.w, x_test)\n",
    "diff = numpy.abs(f_test - y_test) / 2\n",
    "error_test = numpy.mean(diff)\n",
    "print('Test error is ' + str(error_test))"
   ]
  },
  {
   "cell_type": "markdown",
   "metadata": {},
   "source": [
    "## 3.2 Gradient Descent with q=8"
   ]
  },
  {
   "cell_type": "code",
   "execution_count": 174,
   "metadata": {},
   "outputs": [],
   "source": [
    "m = 4 \n",
    "q = 8\n",
    "batch_size = 0 \n",
    "alpha = 1E-4\n",
    "beta = 0.99\n",
    "lam = 1E-4\n",
    "\n",
    "server, workers = create_server_workers(m, x_train, y_train, q, batch_size, alpha, beta, lam)"
   ]
  },
  {
   "cell_type": "markdown",
   "metadata": {},
   "source": [
    "Starting simulation"
   ]
  },
  {
   "cell_type": "code",
   "execution_count": 175,
   "metadata": {
    "scrolled": true
   },
   "outputs": [
    {
     "name": "stdout",
     "output_type": "stream",
     "text": [
      "Objective function value = 0.6931471805599453\n",
      "Objective function value = 0.5944059790099911\n",
      "Objective function value = 0.5122896739231088\n",
      "Objective function value = 0.47578975342014174\n",
      "Objective function value = 0.4574208617585837\n",
      "Objective function value = 0.446776207470534\n",
      "Objective function value = 0.4400150137632248\n",
      "Objective function value = 0.4354298984553466\n",
      "Objective function value = 0.5037454220091\n",
      "Objective function value = 0.4829934200678506\n",
      "Objective function value = 0.4591865868602946\n",
      "Objective function value = 0.44425144027739616\n",
      "Objective function value = 0.4355717706296611\n",
      "Objective function value = 0.4304122481934358\n",
      "Objective function value = 0.4272395865059703\n",
      "Objective function value = 0.42523614482129907\n",
      "Objective function value = 0.5057363140509469\n",
      "Objective function value = 0.483513151776607\n",
      "Objective function value = 0.4591997085705518\n",
      "Objective function value = 0.4441377043560919\n",
      "Objective function value = 0.43544966131246293\n",
      "Objective function value = 0.4303118228917434\n",
      "Objective function value = 0.42716468020140985\n",
      "Objective function value = 0.4251832356713689\n",
      "Objective function value = 0.5056122954378093\n",
      "Objective function value = 0.4834237853736969\n",
      "Objective function value = 0.4591501443151195\n",
      "Objective function value = 0.44411397924917273\n",
      "Objective function value = 0.4354408071434569\n",
      "Objective function value = 0.43031119731044515\n",
      "Objective function value = 0.4271684124995633\n",
      "Objective function value = 0.42518907611646267\n",
      "Objective function value = 0.5056164402363952\n",
      "Objective function value = 0.4834288881102943\n",
      "Objective function value = 0.4591539091896735\n",
      "Objective function value = 0.4441163101698939\n",
      "Objective function value = 0.43544210432878633\n",
      "Objective function value = 0.4303118345840794\n",
      "Objective function value = 0.42716864965926055\n",
      "Objective function value = 0.42518908017504675\n",
      "Objective function value = 0.5056164564534641\n",
      "Objective function value = 0.48342873948476256\n",
      "Objective function value = 0.45915373894395906\n",
      "Objective function value = 0.44411616947452665\n",
      "Objective function value = 0.43544199836924957\n",
      "Objective function value = 0.43031175623794893\n",
      "Objective function value = 0.4271685913189456\n",
      "Objective function value = 0.4251890360485946\n"
     ]
    }
   ],
   "source": [
    "# Execute Federated Averaging\n",
    "max_epoch = 50\n",
    "\n",
    "objvals_gd_8 =[]\n",
    "for t in range(math.floor(max_epoch/q)):\n",
    "    # step 1: broadcast\n",
    "    w = server.broadcast()\n",
    "    for i in range(m):\n",
    "        workers[i].set_param(w)\n",
    "        \n",
    "    # step 2: workers' local computation\n",
    "    ps=[]\n",
    "    losses=[]\n",
    "    for i in range(m):\n",
    "        p, obj_val = workers[i].client_update()\n",
    "        ps.append(p)\n",
    "        if i == 0:\n",
    "            for val in obj_val:\n",
    "                print(\"Objective function value = \" + str(val))\n",
    "                objvals_gd_8.append(val)\n",
    "    \n",
    "    # step 3: aggregate workers' outputs\n",
    "    server.aggregate(ps, losses)\n",
    "    server.update_step()"
   ]
  },
  {
   "cell_type": "markdown",
   "metadata": {},
   "source": [
    "Prediction"
   ]
  },
  {
   "cell_type": "code",
   "execution_count": 188,
   "metadata": {},
   "outputs": [
    {
     "name": "stdout",
     "output_type": "stream",
     "text": [
      "Training error is 0.2390625\n"
     ]
    }
   ],
   "source": [
    "# training error\n",
    "f_train = predict(server.w, x_train)\n",
    "diff = numpy.abs(f_train - y_train) / 2\n",
    "error_train = numpy.mean(diff)\n",
    "print('Training error is ' + str(error_train))"
   ]
  },
  {
   "cell_type": "code",
   "execution_count": 189,
   "metadata": {},
   "outputs": [
    {
     "name": "stdout",
     "output_type": "stream",
     "text": [
      "Test error is 0.1875\n"
     ]
    }
   ],
   "source": [
    "# test error\n",
    "f_test = predict(server.w, x_test)\n",
    "diff = numpy.abs(f_test - y_test) / 2\n",
    "error_test = numpy.mean(diff)\n",
    "print('Test error is ' + str(error_test))"
   ]
  },
  {
   "cell_type": "markdown",
   "metadata": {},
   "source": [
    "## 3.3 Stochastic Gradient Descent with q=1"
   ]
  },
  {
   "cell_type": "code",
   "execution_count": 177,
   "metadata": {},
   "outputs": [
    {
     "name": "stdout",
     "output_type": "stream",
     "text": [
      "(160, 1, 9) (160, 1, 1)\n",
      "(160, 1, 9) (160, 1, 1)\n",
      "(160, 1, 9) (160, 1, 1)\n",
      "(160, 1, 9) (160, 1, 1)\n"
     ]
    }
   ],
   "source": [
    "m = 4 \n",
    "q = 1\n",
    "batch_size = 1 \n",
    "alpha = 1E-4\n",
    "beta = 0.99\n",
    "lam = 1E-4\n",
    "\n",
    "server, workers = create_server_workers(m, x_train, y_train, q, batch_size, alpha, beta, lam)"
   ]
  },
  {
   "cell_type": "markdown",
   "metadata": {},
   "source": [
    "Starting Simulation"
   ]
  },
  {
   "cell_type": "code",
   "execution_count": 178,
   "metadata": {
    "scrolled": true
   },
   "outputs": [
    {
     "name": "stdout",
     "output_type": "stream",
     "text": [
      "Objective function value = 0.6931471805599453\n",
      "Objective function value = 0.5156721071603521\n",
      "Objective function value = 0.45253387221519475\n",
      "Objective function value = 0.4497709957351174\n",
      "Objective function value = 0.45421372713176694\n",
      "Objective function value = 0.4549760460917891\n",
      "Objective function value = 0.4544898923026883\n",
      "Objective function value = 0.4542174726741968\n",
      "Objective function value = 0.45415045902335216\n",
      "Objective function value = 0.45410402824175966\n",
      "Objective function value = 0.454085314548022\n",
      "Objective function value = 0.4541033831765699\n",
      "Objective function value = 0.4541237901287101\n",
      "Objective function value = 0.4541283479691481\n",
      "Objective function value = 0.45412458664549665\n",
      "Objective function value = 0.4541218927277434\n",
      "Objective function value = 0.45412165132754895\n",
      "Objective function value = 0.4541220159048043\n",
      "Objective function value = 0.4541221290127907\n",
      "Objective function value = 0.45412211198969077\n",
      "Objective function value = 0.45412211508912365\n",
      "Objective function value = 0.45412212683038927\n",
      "Objective function value = 0.45412212453492934\n",
      "Objective function value = 0.4541221180974577\n",
      "Objective function value = 0.4541221167394593\n",
      "Objective function value = 0.45412211827953824\n",
      "Objective function value = 0.45412211912693606\n",
      "Objective function value = 0.454122119006808\n",
      "Objective function value = 0.45412211880247283\n",
      "Objective function value = 0.45412211878593717\n",
      "Objective function value = 0.4541221188183467\n",
      "Objective function value = 0.45412211882167147\n",
      "Objective function value = 0.4541221188148025\n",
      "Objective function value = 0.45412211881459713\n",
      "Objective function value = 0.45412211881692477\n",
      "Objective function value = 0.45412211881728953\n",
      "Objective function value = 0.4541221188166208\n",
      "Objective function value = 0.4541221188163639\n",
      "Objective function value = 0.45412211881648257\n",
      "Objective function value = 0.4541221188165726\n",
      "Objective function value = 0.4541221188165651\n",
      "Objective function value = 0.4541221188165456\n",
      "Objective function value = 0.4541221188165445\n",
      "Objective function value = 0.4541221188165482\n",
      "Objective function value = 0.45412211881654824\n",
      "Objective function value = 0.45412211881654735\n",
      "Objective function value = 0.4541221188165473\n",
      "Objective function value = 0.4541221188165476\n",
      "Objective function value = 0.4541221188165476\n",
      "Objective function value = 0.45412211881654757\n"
     ]
    }
   ],
   "source": [
    "max_epoch = 50\n",
    "objvals_sgd_1 =[]\n",
    "\n",
    "for t in range(math.floor(max_epoch/q)):\n",
    "    # step 1: broadcast\n",
    "    w = server.broadcast()\n",
    "    for i in range(m):\n",
    "        workers[i].set_param(w)\n",
    "        \n",
    "\n",
    "    ps=[]\n",
    "    losses=[]\n",
    "    for i in range(m):\n",
    "        p, obj_val = workers[i].client_update()\n",
    "        ps.append(p)\n",
    "        if i == 0:\n",
    "            for val in obj_val:\n",
    "                print(\"Objective function value = \" + str(val))\n",
    "                objvals_sgd_1.append(val)\n",
    "    \n",
    "\n",
    "    server.aggregate(ps, losses)\n",
    "    server.update_step() "
   ]
  },
  {
   "cell_type": "markdown",
   "metadata": {},
   "source": [
    "Prediction"
   ]
  },
  {
   "cell_type": "code",
   "execution_count": 179,
   "metadata": {},
   "outputs": [
    {
     "name": "stdout",
     "output_type": "stream",
     "text": [
      "Training classification error is 0.2359375\n"
     ]
    }
   ],
   "source": [
    "f_train = predict(server.w, x_train)\n",
    "diff = numpy.abs(f_train - y_train) / 2\n",
    "error_train = numpy.mean(diff)\n",
    "print('Training classification error is ' + str(error_train))"
   ]
  },
  {
   "cell_type": "code",
   "execution_count": 180,
   "metadata": {},
   "outputs": [
    {
     "name": "stdout",
     "output_type": "stream",
     "text": [
      "Test classification error is 0.1953125\n"
     ]
    }
   ],
   "source": [
    "f_test = predict(server.w, x_test)\n",
    "diff = numpy.abs(f_test - y_test) / 2\n",
    "error_test = numpy.mean(diff)\n",
    "print('Test classification error is ' + str(error_test))"
   ]
  },
  {
   "cell_type": "markdown",
   "metadata": {},
   "source": [
    "## 3.4 Stochastic Gradient Descent with q=8"
   ]
  },
  {
   "cell_type": "code",
   "execution_count": 181,
   "metadata": {},
   "outputs": [
    {
     "name": "stdout",
     "output_type": "stream",
     "text": [
      "(160, 1, 9) (160, 1, 1)\n",
      "(160, 1, 9) (160, 1, 1)\n",
      "(160, 1, 9) (160, 1, 1)\n",
      "(160, 1, 9) (160, 1, 1)\n"
     ]
    }
   ],
   "source": [
    "m = 4 \n",
    "q = 8\n",
    "batch_size = 1 \n",
    "alpha = 1E-4\n",
    "beta = 0.99\n",
    "lam = 1E-4\n",
    "\n",
    "server, workers = create_server_workers(m, x_train, y_train, q, batch_size, alpha, beta, lam)"
   ]
  },
  {
   "cell_type": "markdown",
   "metadata": {},
   "source": [
    "Starting Simulation"
   ]
  },
  {
   "cell_type": "code",
   "execution_count": 182,
   "metadata": {
    "scrolled": true
   },
   "outputs": [
    {
     "name": "stdout",
     "output_type": "stream",
     "text": [
      "Objective function value = 0.6931471805599453\n",
      "Objective function value = 0.5928411938405848\n",
      "Objective function value = 0.5112527318395953\n",
      "Objective function value = 0.4751870879881251\n",
      "Objective function value = 0.45710839661438\n",
      "Objective function value = 0.446623034642357\n",
      "Objective function value = 0.43993890876252423\n",
      "Objective function value = 0.4353898965741488\n",
      "Objective function value = 0.504056905097331\n",
      "Objective function value = 0.48339686004556076\n",
      "Objective function value = 0.4595516838978694\n",
      "Objective function value = 0.4445208673286897\n",
      "Objective function value = 0.4357486924557718\n",
      "Objective function value = 0.43052517531676365\n",
      "Objective function value = 0.4273147659741752\n",
      "Objective function value = 0.42529038071976694\n",
      "Objective function value = 0.5055025975742294\n",
      "Objective function value = 0.48338991008124693\n",
      "Objective function value = 0.4592325551886933\n",
      "Objective function value = 0.4442073897753133\n",
      "Objective function value = 0.43550364996118507\n",
      "Objective function value = 0.43034715482571917\n",
      "Objective function value = 0.427189411009412\n",
      "Objective function value = 0.4252033670513956\n",
      "Objective function value = 0.5054055787779173\n",
      "Objective function value = 0.4833246473873492\n",
      "Objective function value = 0.45919965133518564\n",
      "Objective function value = 0.44419408985343356\n",
      "Objective function value = 0.43550105366914216\n",
      "Objective function value = 0.43035024196451127\n",
      "Objective function value = 0.42719533845694196\n",
      "Objective function value = 0.42521049710305175\n",
      "Objective function value = 0.5054090411958877\n",
      "Objective function value = 0.4833293676623556\n",
      "Objective function value = 0.4592030939042226\n",
      "Objective function value = 0.4441961979378882\n",
      "Objective function value = 0.43550222580382103\n",
      "Objective function value = 0.4303508214617497\n",
      "Objective function value = 0.42719555912704404\n",
      "Objective function value = 0.42521050895563917\n",
      "Objective function value = 0.5054090724182714\n",
      "Objective function value = 0.4833292366753327\n",
      "Objective function value = 0.4592029420910792\n",
      "Objective function value = 0.44419607184095244\n",
      "Objective function value = 0.43550212970315394\n",
      "Objective function value = 0.4303507492507385\n",
      "Objective function value = 0.42719550437487086\n",
      "Objective function value = 0.4252104667646554\n"
     ]
    }
   ],
   "source": [
    "max_epoch = 50\n",
    "objvals_sgd_8 =[]\n",
    "\n",
    "for t in range(math.floor(max_epoch/q)):\n",
    "    # step 1: broadcast\n",
    "    w = server.broadcast()\n",
    "    for i in range(m):\n",
    "        workers[i].set_param(w)\n",
    "\n",
    "    ps=[]\n",
    "    losses=[]\n",
    "    for i in range(m):\n",
    "        p, obj_val = workers[i].client_update()\n",
    "        ps.append(p)\n",
    "        if i == 0:\n",
    "            for val in obj_val:\n",
    "                print(\"Objective function value = \" + str(val))\n",
    "                objvals_sgd_8.append(val)\n",
    "    \n",
    "    server.aggregate(ps, losses)\n",
    "    server.update_step()    "
   ]
  },
  {
   "cell_type": "markdown",
   "metadata": {},
   "source": [
    "Prediction"
   ]
  },
  {
   "cell_type": "code",
   "execution_count": 183,
   "metadata": {},
   "outputs": [
    {
     "name": "stdout",
     "output_type": "stream",
     "text": [
      "Training classification error is 0.2390625\n"
     ]
    }
   ],
   "source": [
    "f_train = predict(server.w, x_train)\n",
    "diff = numpy.abs(f_train - y_train) / 2\n",
    "error_train = numpy.mean(diff)\n",
    "print('Training classification error is ' + str(error_train))"
   ]
  },
  {
   "cell_type": "code",
   "execution_count": 184,
   "metadata": {},
   "outputs": [
    {
     "name": "stdout",
     "output_type": "stream",
     "text": [
      "Test classification error is 0.1875\n"
     ]
    }
   ],
   "source": [
    "f_test = predict(server.w, x_test)\n",
    "diff = numpy.abs(f_test - y_test) / 2\n",
    "error_test = numpy.mean(diff)\n",
    "print('Test classification error is ' + str(error_test))"
   ]
  },
  {
   "cell_type": "markdown",
   "metadata": {},
   "source": [
    "# Plotting and comparing GD with q=1, GD with q=8, SGD with q=1, and SGD with q=8\n",
    " "
   ]
  },
  {
   "cell_type": "code",
   "execution_count": 196,
   "metadata": {},
   "outputs": [
    {
     "data": {
      "image/png": "[encoded data removed]",
      "text/plain": [
       "<Figure size 432x288 with 1 Axes>"
      ]
     },
     "metadata": {
      "needs_background": "light"
     },
     "output_type": "display_data"
    }
   ],
   "source": [
    "\n",
    "import matplotlib.pyplot as plt\n",
    "%matplotlib inline\n",
    "\n",
    "fig = plt.figure(figsize=(6, 4))\n",
    "\n",
    "epochs_gd_1 = range(len(objvals_gd_1))\n",
    "epochs_gd_8 = range(len(objvals_gd_8))\n",
    "epochs_sgd_1 = range(len(objvals_sgd_1))\n",
    "epochs_sgd_8 = range(len(objvals_sgd_8))\n",
    "\n",
    "line0, = plt.plot(epochs_gd_1, objvals_gd_1, '--b', LineWidth=1.5)\n",
    "line1, = plt.plot(epochs_gd_8, objvals_gd_8, '--r', LineWidth=1.5)\n",
    "line2, = plt.plot(epochs_sgd_1, objvals_sgd_1, '--y', LineWidth=1.5)\n",
    "line3, = plt.plot(epochs_sgd_8, objvals_sgd_8, '--g', LineWidth=1.5)\n",
    "\n",
    "plt.xlabel('Epochs', FontSize=20)\n",
    "plt.ylabel('Objective Value', FontSize=20)\n",
    "plt.xticks(FontSize=8)\n",
    "plt.yticks(FontSize=8)\n",
    "plt.legend([line0, line1, line2, line3], ['GD q=1', 'GD q=8', 'SGD q=1', 'SGD q=8'], fontsize=15)\n",
    "plt.show()\n",
    "\n"
   ]
  },
  {
   "cell_type": "code",
   "execution_count": 197,
   "metadata": {},
   "outputs": [],
   "source": [
    "fig.savefig('compare_gd_sgd.pdf', format='pdf', dpi=15000)"
   ]
  },
  {
   "cell_type": "code",
   "execution_count": null,
   "metadata": {},
   "outputs": [],
   "source": []
  }
 ],
 "metadata": {
  "kernelspec": {
   "display_name": "Python 3",
   "language": "python",
   "name": "python3"
  },
  "language_info": {
   "codemirror_mode": {
    "name": "ipython",
    "version": 3
   },
   "file_extension": ".py",
   "mimetype": "text/x-python",
   "name": "python",
   "nbconvert_exporter": "python",
   "pygments_lexer": "ipython3",
   "version": "3.7.6"
  }
 },
 "nbformat": 4,
 "nbformat_minor": 2
}
