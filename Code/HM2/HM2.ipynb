{
 "cells": [
  {
   "cell_type": "markdown",
   "metadata": {},
   "source": [
    "# HM2: Numerical Optimization for Logistic Regression.\n",
    "\n",
    "### Name: Harman Singh Bath\n"
   ]
  },
  {
   "cell_type": "markdown",
   "metadata": {},
   "source": [
    "## 0. You will do the following:\n",
    "\n",
    "1. Read the lecture note: [click here](https://github.com/wangshusen/DeepLearning/blob/master/LectureNotes/Logistic/paper/logistic.pdf)\n",
    "\n",
    "2. Read, complete, and run my code.\n",
    "\n",
    "3. **Implement mini-batch SGD** and evaluate the performance.\n",
    "\n",
    "4. Convert the .IPYNB file to .HTML file.\n",
    "\n",
    "    * The HTML file must contain **the code** and **the output after execution**.\n",
    "    \n",
    "    * Missing **the output after execution** will not be graded.\n",
    "    \n",
    "5. Upload this .HTML file to your Google Drive, Dropbox, or your Github repo.  (If you submit the file to Google Drive or Dropbox, you must make the file \"open-access\". The delay caused by \"deny of access\" may result in late penalty.)\n",
    "\n",
    "6. Submit the link to this .HTML file to Canvas.\n",
    "\n",
    "    * Example: https://github.com/wangshusen/CS583-2020S/blob/master/homework/HM2/HM2.html\n",
    "\n",
    "\n",
    "## Grading criteria:\n",
    "\n",
    "1. When computing the ```gradient``` and ```objective function value``` using a batch of samples, use **matrix-vector multiplication** rather than a FOR LOOP of **vector-vector multiplications**.\n",
    "\n",
    "2. Plot ```objective function value``` against ```epochs```. In the plot, compare GD, SGD, and MB-SGD (with $b=8$ and $b=64$). The plot must look reasonable."
   ]
  },
  {
   "cell_type": "code",
   "execution_count": null,
   "metadata": {},
   "outputs": [],
   "source": []
  },
  {
   "cell_type": "markdown",
   "metadata": {},
   "source": [
    "# 1. Data processing\n",
    "\n",
    "- Download the Diabete dataset from https://www.csie.ntu.edu.tw/~cjlin/libsvmtools/datasets/binary/diabetes\n",
    "- Load the data using sklearn.\n",
    "- Preprocess the data."
   ]
  },
  {
   "cell_type": "markdown",
   "metadata": {},
   "source": [
    "## 1.1. Load the data"
   ]
  },
  {
   "cell_type": "code",
   "execution_count": 1,
   "metadata": {},
   "outputs": [
    {
     "name": "stdout",
     "output_type": "stream",
     "text": [
      "Shape of x: (768, 8)\n",
      "Shape of y: (768,)\n"
     ]
    }
   ],
   "source": [
    "from sklearn import datasets\n",
    "import numpy\n",
    "\n",
    "x_sparse, y = datasets.load_svmlight_file('diabetes')\n",
    "x = x_sparse.todense()\n",
    "\n",
    "print('Shape of x: ' + str(x.shape))\n",
    "print('Shape of y: ' + str(y.shape))"
   ]
  },
  {
   "cell_type": "markdown",
   "metadata": {},
   "source": [
    "## 1.2. Partition to training and test sets"
   ]
  },
  {
   "cell_type": "code",
   "execution_count": 2,
   "metadata": {},
   "outputs": [
    {
     "name": "stdout",
     "output_type": "stream",
     "text": [
      "Shape of x_train: (640, 8)\n",
      "Shape of x_test: (128, 8)\n",
      "Shape of y_train: (640, 1)\n",
      "Shape of y_test: (128, 1)\n"
     ]
    }
   ],
   "source": [
    "# partition the data to training and test sets\n",
    "n = x.shape[0]\n",
    "n_train = 640\n",
    "n_test = n - n_train\n",
    "\n",
    "rand_indices = numpy.random.permutation(n)\n",
    "train_indices = rand_indices[0:n_train]\n",
    "test_indices = rand_indices[n_train:n]\n",
    "\n",
    "x_train = x[train_indices, :]\n",
    "x_test = x[test_indices, :]\n",
    "y_train = y[train_indices].reshape(n_train, 1)\n",
    "y_test = y[test_indices].reshape(n_test, 1)\n",
    "\n",
    "print('Shape of x_train: ' + str(x_train.shape))\n",
    "print('Shape of x_test: ' + str(x_test.shape))\n",
    "print('Shape of y_train: ' + str(y_train.shape))\n",
    "print('Shape of y_test: ' + str(y_test.shape))"
   ]
  },
  {
   "cell_type": "markdown",
   "metadata": {},
   "source": [
    "## 1.3. Feature scaling"
   ]
  },
  {
   "cell_type": "markdown",
   "metadata": {},
   "source": [
    "Use the standardization to trainsform both training and test features"
   ]
  },
  {
   "cell_type": "code",
   "execution_count": 3,
   "metadata": {},
   "outputs": [
    {
     "name": "stdout",
     "output_type": "stream",
     "text": [
      "test mean = \n",
      "[[ 0.0615144  -0.04143961  0.04411914 -0.11064522 -0.10397499 -0.1273932\n",
      "  -0.0828628   0.12969168]]\n",
      "test std = \n",
      "[[1.06847799 0.98794829 1.03385147 1.13408978 0.96200746 1.12543129\n",
      "  0.85688967 1.15138501]]\n"
     ]
    }
   ],
   "source": [
    "# Standardization\n",
    "import numpy\n",
    "\n",
    "# calculate mu and sig using the training set\n",
    "d = x_train.shape[1]\n",
    "mu = numpy.mean(x_train, axis=0).reshape(1, d)\n",
    "sig = numpy.std(x_train, axis=0).reshape(1, d)\n",
    "\n",
    "# transform the training features\n",
    "x_train = (x_train - mu) / (sig + 1E-6)\n",
    "\n",
    "# transform the test features\n",
    "x_test = (x_test - mu) / (sig + 1E-6)\n",
    "\n",
    "print('test mean = ')\n",
    "print(numpy.mean(x_test, axis=0))\n",
    "\n",
    "print('test std = ')\n",
    "print(numpy.std(x_test, axis=0))"
   ]
  },
  {
   "cell_type": "markdown",
   "metadata": {},
   "source": [
    "## 1.4. Add a dimension of all ones"
   ]
  },
  {
   "cell_type": "code",
   "execution_count": 4,
   "metadata": {},
   "outputs": [
    {
     "name": "stdout",
     "output_type": "stream",
     "text": [
      "Shape of x_train: (640, 9)\n",
      "Shape of x_test: (128, 9)\n"
     ]
    }
   ],
   "source": [
    "n_train, d = x_train.shape\n",
    "x_train = numpy.concatenate((x_train, numpy.ones((n_train, 1))), axis=1)\n",
    "\n",
    "n_test, d = x_test.shape\n",
    "x_test = numpy.concatenate((x_test, numpy.ones((n_test, 1))), axis=1)\n",
    "\n",
    "print('Shape of x_train: ' + str(x_train.shape))\n",
    "print('Shape of x_test: ' + str(x_test.shape))"
   ]
  },
  {
   "cell_type": "markdown",
   "metadata": {},
   "source": [
    "# 2. Logistic regression model\n",
    "\n",
    "The objective function is $Q (w; X, y) = \\frac{1}{n} \\sum_{i=1}^n \\log \\Big( 1 + \\exp \\big( - y_i x_i^T w \\big) \\Big) + \\frac{\\lambda}{2} \\| w \\|_2^2 $."
   ]
  },
  {
   "cell_type": "code",
   "execution_count": 5,
   "metadata": {},
   "outputs": [],
   "source": [
    "# Calculate the objective function value\n",
    "# Inputs:\n",
    "#     w: d-by-1 matrix\n",
    "#     x: n-by-d matrix\n",
    "#     y: n-by-1 matrix\n",
    "#     lam: scalar, the regularization parameter\n",
    "# Return:\n",
    "#     objective function value (scalar)\n",
    "def objective(w, x, y, lam):\n",
    "    n, d = x.shape\n",
    "    yx = numpy.multiply(y, x) # n-by-d matrix\n",
    "    yxw = numpy.dot(yx, w) # n-by-1 matrix\n",
    "    vec1 = numpy.exp(-yxw) # n-by-1 matrix\n",
    "    vec2 = numpy.log(1 + vec1) # n-by-1 matrix\n",
    "    loss = numpy.mean(vec2) # scalar\n",
    "    reg = lam / 2 * numpy.sum(w * w) # scalar\n",
    "    return loss + reg\n",
    "    "
   ]
  },
  {
   "cell_type": "code",
   "execution_count": 6,
   "metadata": {},
   "outputs": [
    {
     "name": "stdout",
     "output_type": "stream",
     "text": [
      "Initial objective function value = 0.6931471805599453\n"
     ]
    }
   ],
   "source": [
    "# initialize w\n",
    "d = x_train.shape[1]\n",
    "w = numpy.zeros((d, 1))\n",
    "\n",
    "# evaluate the objective function value at w\n",
    "lam = 1E-6\n",
    "objval0 = objective(w, x_train, y_train, lam)\n",
    "print('Initial objective function value = ' + str(objval0))"
   ]
  },
  {
   "cell_type": "markdown",
   "metadata": {},
   "source": [
    "# 3. Numerical optimization"
   ]
  },
  {
   "cell_type": "markdown",
   "metadata": {},
   "source": [
    "## 3.1. Gradient descent\n"
   ]
  },
  {
   "cell_type": "markdown",
   "metadata": {},
   "source": [
    "The gradient at $w$ is $g = - \\frac{1}{n} \\sum_{i=1}^n \\frac{y_i x_i }{1 + \\exp ( y_i x_i^T w)} + \\lambda w$"
   ]
  },
  {
   "cell_type": "code",
   "execution_count": 7,
   "metadata": {},
   "outputs": [],
   "source": [
    "# Calculate the gradient\n",
    "# Inputs:\n",
    "#     w: d-by-1 matrix\n",
    "#     x: n-by-d matrix\n",
    "#     y: n-by-1 matrix\n",
    "#     lam: scalar, the regularization parameter\n",
    "# Return:\n",
    "#     g: g: d-by-1 matrix, full gradient\n",
    "def gradient(w, x, y, lam):\n",
    "    n, d = x.shape\n",
    "    yx = numpy.multiply(y, x) # n-by-d matrix\n",
    "    yxw = numpy.dot(yx, w) # n-by-1 matrix\n",
    "    vec1 = numpy.exp(yxw) # n-by-1 matrix\n",
    "    vec2 = numpy.divide(yx, 1+vec1) # n-by-d matrix\n",
    "    vec3 = -numpy.mean(vec2, axis=0).reshape(d, 1) # d-by-1 matrix\n",
    "    g = vec3 + lam * w\n",
    "    return g"
   ]
  },
  {
   "cell_type": "code",
   "execution_count": 8,
   "metadata": {},
   "outputs": [],
   "source": [
    "# Gradient descent for solving logistic regression\n",
    "# Inputs:\n",
    "#     x: n-by-d matrix\n",
    "#     y: n-by-1 matrix\n",
    "#     lam: scalar, the regularization parameter\n",
    "#     stepsize: scalar\n",
    "#     max_iter: integer, the maximal iterations\n",
    "#     w: d-by-1 matrix, initialization of w\n",
    "# Return:\n",
    "#     w: d-by-1 matrix, the solution\n",
    "#     objvals: a record of each iteration's objective value\n",
    "def grad_descent(x, y, lam, stepsize, max_iter=100, w=None):\n",
    "    n, d = x.shape\n",
    "    objvals = numpy.zeros(max_iter) # store the objective values\n",
    "    if w is None:\n",
    "        w = numpy.zeros((d, 1)) # zero initialization\n",
    "    \n",
    "    for t in range(max_iter):\n",
    "        objval = objective(w, x, y, lam)\n",
    "        objvals[t] = objval\n",
    "        print('Objective value at t=' + str(t) + ' is ' + str(objval))\n",
    "        g = gradient(w, x, y, lam)\n",
    "        w -= stepsize * g\n",
    "    \n",
    "    return w, objvals"
   ]
  },
  {
   "cell_type": "markdown",
   "metadata": {},
   "source": [
    "Run gradient descent."
   ]
  },
  {
   "cell_type": "code",
   "execution_count": 9,
   "metadata": {
    "scrolled": true
   },
   "outputs": [
    {
     "name": "stdout",
     "output_type": "stream",
     "text": [
      "Objective value at t=0 is 0.6931471805599453\n",
      "Objective value at t=1 is 0.5976207527533909\n",
      "Objective value at t=2 is 0.5562400504597145\n",
      "Objective value at t=3 is 0.5334928043193145\n",
      "Objective value at t=4 is 0.5192014170488208\n",
      "Objective value at t=5 is 0.5095197272807741\n",
      "Objective value at t=6 is 0.5026436651389314\n",
      "Objective value at t=7 is 0.4975988575673193\n",
      "Objective value at t=8 is 0.49380744832448215\n",
      "Objective value at t=9 is 0.49090396972901545\n",
      "Objective value at t=10 is 0.48864633442099514\n",
      "Objective value at t=11 is 0.4868684856724258\n",
      "Objective value at t=12 is 0.4854533394946084\n",
      "Objective value at t=13 is 0.48431646125191635\n",
      "Objective value at t=14 is 0.483395796178045\n",
      "Objective value at t=15 is 0.4826449889771143\n",
      "Objective value at t=16 is 0.48202891725249936\n",
      "Objective value at t=17 is 0.4815206351187753\n",
      "Objective value at t=18 is 0.48109923947556293\n",
      "Objective value at t=19 is 0.4807483539298104\n",
      "Objective value at t=20 is 0.4804550345126896\n",
      "Objective value at t=21 is 0.4802089685837188\n",
      "Objective value at t=22 is 0.4800018807954561\n",
      "Objective value at t=23 is 0.4798270874196556\n",
      "Objective value at t=24 is 0.47967915838878844\n",
      "Objective value at t=25 is 0.47955365849666415\n",
      "Objective value at t=26 is 0.47944694742641497\n",
      "Objective value at t=27 is 0.4793560239503163\n",
      "Objective value at t=28 is 0.4792784036158729\n",
      "Objective value at t=29 is 0.47921202204377517\n",
      "Objective value at t=30 is 0.47915515797702896\n",
      "Objective value at t=31 is 0.47910637167868764\n",
      "Objective value at t=32 is 0.47906445534217645\n",
      "Objective value at t=33 is 0.4790283929657896\n",
      "Objective value at t=34 is 0.4789973277297631\n",
      "Objective value at t=35 is 0.47897053535522927\n",
      "Objective value at t=36 is 0.4789474022582797\n",
      "Objective value at t=37 is 0.478927407567139\n",
      "Objective value at t=38 is 0.47891010826622754\n",
      "Objective value at t=39 is 0.47889512688231745\n",
      "Objective value at t=40 is 0.4788821412458577\n",
      "Objective value at t=41 is 0.47887087595283867\n",
      "Objective value at t=42 is 0.47886109522522463\n",
      "Objective value at t=43 is 0.4788525969255151\n",
      "Objective value at t=44 is 0.4788452075267434\n",
      "Objective value at t=45 is 0.4788387778758002\n",
      "Objective value at t=46 is 0.4788331796173275\n",
      "Objective value at t=47 is 0.47882830216910893\n",
      "Objective value at t=48 is 0.478824050159037\n",
      "Objective value at t=49 is 0.47882034124931855\n",
      "Objective value at t=50 is 0.4788171042862699\n",
      "Objective value at t=51 is 0.4788142777244493\n",
      "Objective value at t=52 is 0.47881180828240333\n",
      "Objective value at t=53 is 0.47880964979432\n",
      "Objective value at t=54 is 0.47880776222769583\n",
      "Objective value at t=55 is 0.47880611084190955\n",
      "Objective value at t=56 is 0.4788046654666002\n",
      "Objective value at t=57 is 0.47880339988205106\n",
      "Objective value at t=58 is 0.4788022912865616\n",
      "Objective value at t=59 is 0.4788013198380998\n",
      "Objective value at t=60 is 0.4788004682594674\n",
      "Objective value at t=61 is 0.47879972149784195\n",
      "Objective value at t=62 is 0.4787990664309298\n",
      "Objective value at t=63 is 0.47879849161311794\n",
      "Objective value at t=64 is 0.4787979870559917\n",
      "Objective value at t=65 is 0.47879754403840524\n",
      "Objective value at t=66 is 0.47879715494199726\n",
      "Objective value at t=67 is 0.4787968131086315\n",
      "Objective value at t=68 is 0.4787965127167492\n",
      "Objective value at t=69 is 0.47879624867404996\n",
      "Objective value at t=70 is 0.4787960165242789\n",
      "Objective value at t=71 is 0.4787958123662147\n",
      "Objective value at t=72 is 0.4787956327832164\n",
      "Objective value at t=73 is 0.4787954747819153\n",
      "Objective value at t=74 is 0.4787953357388345\n",
      "Objective value at t=75 is 0.478795213353883\n",
      "Objective value at t=76 is 0.4787951056098194\n",
      "Objective value at t=77 is 0.478795010736898\n",
      "Objective value at t=78 is 0.47879492718202094\n",
      "Objective value at t=79 is 0.47879485358180734\n",
      "Objective value at t=80 is 0.47879478873907283\n",
      "Objective value at t=81 is 0.47879473160227576\n",
      "Objective value at t=82 is 0.47879468124755187\n",
      "Objective value at t=83 is 0.47879463686299856\n",
      "Objective value at t=84 is 0.4787945977349295\n",
      "Objective value at t=85 is 0.4787945632358405\n",
      "Objective value at t=86 is 0.4787945328138737\n",
      "Objective value at t=87 is 0.4787945059835887\n",
      "Objective value at t=88 is 0.4787944823178767\n",
      "Objective value at t=89 is 0.47879446144087173\n",
      "Objective value at t=90 is 0.47879444302173574\n",
      "Objective value at t=91 is 0.4787944267692076\n",
      "Objective value at t=92 is 0.47879441242681975\n",
      "Objective value at t=93 is 0.47879439976870103\n",
      "Objective value at t=94 is 0.47879438859589146\n",
      "Objective value at t=95 is 0.4787943787331058\n",
      "Objective value at t=96 is 0.4787943700258914\n",
      "Objective value at t=97 is 0.47879436233813033\n",
      "Objective value at t=98 is 0.47879435554984506\n",
      "Objective value at t=99 is 0.47879434955526823\n"
     ]
    }
   ],
   "source": [
    "lam = 1E-6\n",
    "stepsize = 1.0\n",
    "w, objvals_gd = grad_descent(x_train, y_train, lam, stepsize)"
   ]
  },
  {
   "cell_type": "markdown",
   "metadata": {},
   "source": [
    "## 3.2. Stochastic gradient descent (SGD)\n",
    "\n",
    "Define $Q_i (w) = \\log \\Big( 1 + \\exp \\big( - y_i x_i^T w \\big) \\Big) + \\frac{\\lambda}{2} \\| w \\|_2^2 $.\n",
    "\n",
    "The stochastic gradient at $w$ is $g_i = \\frac{\\partial Q_i }{ \\partial w} = -\\frac{y_i x_i }{1 + \\exp ( y_i x_i^T w)} + \\lambda w$."
   ]
  },
  {
   "cell_type": "code",
   "execution_count": 10,
   "metadata": {},
   "outputs": [],
   "source": [
    "# Calculate the objective Q_i and the gradient of Q_i\n",
    "# Inputs:\n",
    "#     w: d-by-1 matrix\n",
    "#     xi: 1-by-d matrix\n",
    "#     yi: scalar\n",
    "#     lam: scalar, the regularization parameter\n",
    "# Return:\n",
    "#     obj: scalar, the objective Q_i\n",
    "#     g: d-by-1 matrix, gradient of Q_i\n",
    "def stochastic_objective_gradient(w, xi, yi, lam):\n",
    "    d = xi.shape[0]\n",
    "    yx = yi * xi # 1-by-d matrix\n",
    "    yxw = float(numpy.dot(yx, w)) # scalar\n",
    "    \n",
    "    # calculate objective function Q_i\n",
    "    loss = numpy.log(1 + numpy.exp(-yxw)) # scalar\n",
    "    reg = lam / 2 * numpy.sum(w * w) # scalar\n",
    "    obj = loss + reg\n",
    "    \n",
    "    # calculate stochastic gradient\n",
    "    g_loss = -yx.T / (1 + numpy.exp(yxw)) # d-by-1 matrix\n",
    "    g = g_loss + lam * w # d-by-1 matrix\n",
    "    \n",
    "    return obj, g"
   ]
  },
  {
   "cell_type": "code",
   "execution_count": 11,
   "metadata": {},
   "outputs": [],
   "source": [
    "# SGD for solving logistic regression\n",
    "# Inputs:\n",
    "#     x: n-by-d matrix\n",
    "#     y: n-by-1 matrix\n",
    "#     lam: scalar, the regularization parameter\n",
    "#     stepsize: scalar\n",
    "#     max_epoch: integer, the maximal epochs\n",
    "#     w: d-by-1 matrix, initialization of w\n",
    "# Return:\n",
    "#     w: the solution\n",
    "#     objvals: record of each iteration's objective value\n",
    "def sgd(x, y, lam, stepsize, max_epoch=100, w=None):\n",
    "    n, d = x.shape\n",
    "    objvals = numpy.zeros(max_epoch) # store the objective values\n",
    "    if w is None:\n",
    "        w = numpy.zeros((d, 1)) # zero initialization\n",
    "    \n",
    "    for t in range(max_epoch):\n",
    "        # randomly shuffle the samples\n",
    "        rand_indices = numpy.random.permutation(n)\n",
    "        x_rand = x[rand_indices, :]\n",
    "        y_rand = y[rand_indices, :]\n",
    "        \n",
    "        objval = 0 # accumulate the objective values\n",
    "        for i in range(n):\n",
    "            xi = x_rand[i, :] # 1-by-d matrix\n",
    "            yi = float(y_rand[i, :]) # scalar\n",
    "            obj, g = stochastic_objective_gradient(w, xi, yi, lam)\n",
    "            objval += obj\n",
    "            w -= stepsize * g\n",
    "        \n",
    "        stepsize *= 0.9 # decrease step size\n",
    "        objval /= n\n",
    "        objvals[t] = objval\n",
    "        print('Objective value at epoch t=' + str(t) + ' is ' + str(objval))\n",
    "    \n",
    "    return w, objvals"
   ]
  },
  {
   "cell_type": "markdown",
   "metadata": {},
   "source": [
    "Run SGD."
   ]
  },
  {
   "cell_type": "code",
   "execution_count": 12,
   "metadata": {
    "scrolled": true
   },
   "outputs": [
    {
     "name": "stdout",
     "output_type": "stream",
     "text": [
      "Objective value at epoch t=0 is 0.5449358250471302\n",
      "Objective value at epoch t=1 is 0.5358496507878897\n",
      "Objective value at epoch t=2 is 0.5167454430364049\n",
      "Objective value at epoch t=3 is 0.5189251115741664\n",
      "Objective value at epoch t=4 is 0.5179815584952167\n",
      "Objective value at epoch t=5 is 0.5133271308385309\n",
      "Objective value at epoch t=6 is 0.5078784944931986\n",
      "Objective value at epoch t=7 is 0.5011881092189796\n",
      "Objective value at epoch t=8 is 0.49814326294708267\n",
      "Objective value at epoch t=9 is 0.5041612714662749\n",
      "Objective value at epoch t=10 is 0.4977601444871018\n",
      "Objective value at epoch t=11 is 0.49989049213275055\n",
      "Objective value at epoch t=12 is 0.49491525778217066\n",
      "Objective value at epoch t=13 is 0.49580873194271896\n",
      "Objective value at epoch t=14 is 0.49239639312369315\n",
      "Objective value at epoch t=15 is 0.49052508263047184\n",
      "Objective value at epoch t=16 is 0.49159657708677695\n",
      "Objective value at epoch t=17 is 0.49025517502602156\n",
      "Objective value at epoch t=18 is 0.48840091304607747\n",
      "Objective value at epoch t=19 is 0.4872873691605152\n",
      "Objective value at epoch t=20 is 0.48668432828227787\n",
      "Objective value at epoch t=21 is 0.4863083799761241\n",
      "Objective value at epoch t=22 is 0.4857748921369162\n",
      "Objective value at epoch t=23 is 0.48374315022635583\n",
      "Objective value at epoch t=24 is 0.48403826640805503\n",
      "Objective value at epoch t=25 is 0.48328163527625134\n",
      "Objective value at epoch t=26 is 0.4834370772434193\n",
      "Objective value at epoch t=27 is 0.4828649912880267\n",
      "Objective value at epoch t=28 is 0.4827364866654559\n",
      "Objective value at epoch t=29 is 0.48225586897167894\n",
      "Objective value at epoch t=30 is 0.48178849255253964\n",
      "Objective value at epoch t=31 is 0.4815192416331827\n",
      "Objective value at epoch t=32 is 0.48131760704369475\n",
      "Objective value at epoch t=33 is 0.4810297753187888\n",
      "Objective value at epoch t=34 is 0.4808077031720899\n",
      "Objective value at epoch t=35 is 0.4806138575166887\n",
      "Objective value at epoch t=36 is 0.48045959759394474\n",
      "Objective value at epoch t=37 is 0.4803328764251941\n",
      "Objective value at epoch t=38 is 0.48014898736959627\n",
      "Objective value at epoch t=39 is 0.4800346711476554\n",
      "Objective value at epoch t=40 is 0.47990578543312096\n",
      "Objective value at epoch t=41 is 0.47981422118472167\n",
      "Objective value at epoch t=42 is 0.4797005668058506\n",
      "Objective value at epoch t=43 is 0.479612978939847\n",
      "Objective value at epoch t=44 is 0.4795346756739128\n",
      "Objective value at epoch t=45 is 0.4794607546255506\n",
      "Objective value at epoch t=46 is 0.47939619629551833\n",
      "Objective value at epoch t=47 is 0.47932826491117997\n",
      "Objective value at epoch t=48 is 0.4792745190439077\n",
      "Objective value at epoch t=49 is 0.479230194522546\n",
      "Objective value at epoch t=50 is 0.47919019603434554\n",
      "Objective value at epoch t=51 is 0.47914669229662776\n",
      "Objective value at epoch t=52 is 0.47911404547026093\n",
      "Objective value at epoch t=53 is 0.47908253425012787\n",
      "Objective value at epoch t=54 is 0.479052438266126\n",
      "Objective value at epoch t=55 is 0.4790274097679753\n",
      "Objective value at epoch t=56 is 0.47900415582194905\n",
      "Objective value at epoch t=57 is 0.47898390942901975\n",
      "Objective value at epoch t=58 is 0.4789646488299149\n",
      "Objective value at epoch t=59 is 0.4789479927001789\n",
      "Objective value at epoch t=60 is 0.4789325172583944\n",
      "Objective value at epoch t=61 is 0.4789186696583806\n",
      "Objective value at epoch t=62 is 0.4789060516536444\n",
      "Objective value at epoch t=63 is 0.47889511591547695\n",
      "Objective value at epoch t=64 is 0.47888511193506905\n",
      "Objective value at epoch t=65 is 0.4788760884574514\n",
      "Objective value at epoch t=66 is 0.4788678939359087\n",
      "Objective value at epoch t=67 is 0.4788606819898898\n",
      "Objective value at epoch t=68 is 0.4788540314745826\n",
      "Objective value at epoch t=69 is 0.478847989284067\n",
      "Objective value at epoch t=70 is 0.478842704879556\n",
      "Objective value at epoch t=71 is 0.4788379051037632\n",
      "Objective value at epoch t=72 is 0.4788335634556365\n",
      "Objective value at epoch t=73 is 0.47882969154486227\n",
      "Objective value at epoch t=74 is 0.4788261795321692\n",
      "Objective value at epoch t=75 is 0.47882299627359914\n",
      "Objective value at epoch t=76 is 0.47882016049932935\n",
      "Objective value at epoch t=77 is 0.4788175957536335\n",
      "Objective value at epoch t=78 is 0.47881529234340015\n",
      "Objective value at epoch t=79 is 0.4788132076569907\n",
      "Objective value at epoch t=80 is 0.4788113507852095\n",
      "Objective value at epoch t=81 is 0.47880966175892203\n",
      "Objective value at epoch t=82 is 0.4788081463883766\n",
      "Objective value at epoch t=83 is 0.4788067897599335\n",
      "Objective value at epoch t=84 is 0.4788055565476245\n",
      "Objective value at epoch t=85 is 0.4788044587982552\n",
      "Objective value at epoch t=86 is 0.4788034659177088\n",
      "Objective value at epoch t=87 is 0.4788025716133261\n",
      "Objective value at epoch t=88 is 0.4788017671810554\n",
      "Objective value at epoch t=89 is 0.478801043296252\n",
      "Objective value at epoch t=90 is 0.47880039097644805\n",
      "Objective value at epoch t=91 is 0.4787998040281297\n",
      "Objective value at epoch t=92 is 0.47879927638484326\n",
      "Objective value at epoch t=93 is 0.478798801206756\n",
      "Objective value at epoch t=94 is 0.47879837312704787\n",
      "Objective value at epoch t=95 is 0.47879798860033923\n",
      "Objective value at epoch t=96 is 0.47879764213171755\n",
      "Objective value at epoch t=97 is 0.4787973303384548\n",
      "Objective value at epoch t=98 is 0.47879704953526553\n",
      "Objective value at epoch t=99 is 0.47879679703461564\n"
     ]
    }
   ],
   "source": [
    "lam = 1E-6\n",
    "stepsize = 0.1\n",
    "w, objvals_sgd = sgd(x_train, y_train, lam, stepsize)"
   ]
  },
  {
   "cell_type": "markdown",
   "metadata": {},
   "source": [
    "# 4. Compare GD with SGD\n",
    "\n",
    "Plot objective function values against epochs."
   ]
  },
  {
   "cell_type": "code",
   "execution_count": 13,
   "metadata": {},
   "outputs": [
    {
     "data": {
      "image/png": "[encoded data removed]",
      "text/plain": [
       "<Figure size 432x288 with 1 Axes>"
      ]
     },
     "metadata": {
      "needs_background": "light"
     },
     "output_type": "display_data"
    }
   ],
   "source": [
    "import matplotlib.pyplot as plt\n",
    "%matplotlib inline\n",
    "\n",
    "fig = plt.figure(figsize=(6, 4))\n",
    "\n",
    "epochs_gd = range(len(objvals_gd))\n",
    "epochs_sgd = range(len(objvals_sgd))\n",
    "\n",
    "line0, = plt.plot(epochs_gd, objvals_gd, '--b', LineWidth=4)\n",
    "line1, = plt.plot(epochs_sgd, objvals_sgd, '-r', LineWidth=2)\n",
    "plt.xlabel('Epochs', FontSize=20)\n",
    "plt.ylabel('Objective Value', FontSize=20)\n",
    "plt.xticks(FontSize=16)\n",
    "plt.yticks(FontSize=16)\n",
    "plt.legend([line0, line1], ['GD', 'SGD'], fontsize=20)\n",
    "plt.tight_layout()\n",
    "plt.show()\n",
    "fig.savefig('compare_gd_sgd.pdf', format='pdf', dpi=1200)"
   ]
  },
  {
   "cell_type": "markdown",
   "metadata": {},
   "source": [
    "# 5. Prediction"
   ]
  },
  {
   "cell_type": "code",
   "execution_count": 14,
   "metadata": {},
   "outputs": [],
   "source": [
    "# Predict class label\n",
    "# Inputs:\n",
    "#     w: d-by-1 matrix\n",
    "#     X: m-by-d matrix\n",
    "# Return:\n",
    "#     f: m-by-1 matrix, the predictions\n",
    "def predict(w, X):\n",
    "    xw = numpy.dot(X, w)\n",
    "    f = numpy.sign(xw)\n",
    "    return f"
   ]
  },
  {
   "cell_type": "code",
   "execution_count": 15,
   "metadata": {},
   "outputs": [
    {
     "name": "stdout",
     "output_type": "stream",
     "text": [
      "Training classification error is 0.2234375\n"
     ]
    }
   ],
   "source": [
    "# evaluate training error\n",
    "f_train = predict(w, x_train)\n",
    "diff = numpy.abs(f_train - y_train) / 2\n",
    "error_train = numpy.mean(diff)\n",
    "print('Training classification error is ' + str(error_train))"
   ]
  },
  {
   "cell_type": "code",
   "execution_count": 16,
   "metadata": {},
   "outputs": [
    {
     "name": "stdout",
     "output_type": "stream",
     "text": [
      "Test classification error is 0.1796875\n"
     ]
    }
   ],
   "source": [
    "# evaluate test error\n",
    "f_test = predict(w, x_test)\n",
    "diff = numpy.abs(f_test - y_test) / 2\n",
    "error_test = numpy.mean(diff)\n",
    "print('Test classification error is ' + str(error_test))"
   ]
  },
  {
   "cell_type": "markdown",
   "metadata": {},
   "source": [
    "# 6. Mini-batch SGD (fill the code)\n",
    "\n"
   ]
  },
  {
   "cell_type": "markdown",
   "metadata": {},
   "source": [
    "## 6.1. Compute the objective $Q_I$ and its gradient using a batch of samples\n",
    "\n",
    "Define $Q_I (w) = \\frac{1}{b} \\sum_{i \\in I} \\log \\Big( 1 + \\exp \\big( - y_i x_i^T w \\big) \\Big) + \\frac{\\lambda}{2} \\| w \\|_2^2 $, where $I$ is a set containing $b$ indices randomly drawn from $\\{ 1, \\cdots , n \\}$ without replacement.\n",
    "\n",
    "The stochastic gradient at $w$ is $g_I = \\frac{\\partial Q_I }{ \\partial w} = \\frac{1}{b} \\sum_{i \\in I} \\frac{- y_i x_i }{1 + \\exp ( y_i x_i^T w)} + \\lambda w$."
   ]
  },
  {
   "cell_type": "code",
   "execution_count": 17,
   "metadata": {},
   "outputs": [],
   "source": [
    "# Calculate the objective Q_I and the gradient of Q_I\n",
    "# Inputs:\n",
    "#     w: d-by-1 matrix\n",
    "#     xi: b-by-d matrix\n",
    "#     yi: b-by-1 matrix\n",
    "#     lam: scalar, the regularization parameter\n",
    "#     b: integer, the batch size\n",
    "# Return:\n",
    "#     obj: scalar, the objective Q_i\n",
    "#     g: d-by-1 matrix, gradient of Q_i\n",
    "def mb_stochastic_objective_gradient(w, xi, yi, lam, b):\n",
    "    # Fill the function\n",
    "    # Follow the implementation of stochastic_objective_gradient\n",
    "    # Use matrix-vector multiplication; do not use FOR LOOP of vector-vector multiplications\n",
    "#------------------------------------------------------------------------------------------------------------  \n",
    "    yxw = numpy.dot(numpy.multiply(xi,yi),w)\n",
    "    yx = numpy .multiply(xi, yi)\n",
    "    # Objective fn Q_i\n",
    "    loss = numpy.mean (numpy.log(1+numpy.exp(-yxw)))\n",
    "    regg = lam/2*numpy.sum(w*w)\n",
    "    obj = loss + regg\n",
    "    \n",
    "    # Stochastic Gradient\n",
    "    grad_loss = numpy.expand_dims(numpy.mean(numpy.divide(-yx, (1 + numpy.exp(yxw))), axis=0), axis=1)\n",
    "    g = grad_loss + lam * w\n",
    "    \n",
    "    return obj, g"
   ]
  },
  {
   "cell_type": "markdown",
   "metadata": {},
   "source": [
    "## 6.2. Implement mini-batch SGD\n",
    "\n",
    "Hints:\n",
    "1. In every epoch, randomly permute the $n$ samples (just like SGD).\n",
    "2. Each epoch has $\\frac{n}{b}$ iterations. In every iteration, use $b$ samples, and compute the gradient and objective using the ``mb_stochastic_objective_gradient`` function. In the next iteration, use the next $b$ samples, and so on.\n"
   ]
  },
  {
   "cell_type": "code",
   "execution_count": 18,
   "metadata": {},
   "outputs": [],
   "source": [
    "# Mini-Batch SGD for solving logistic regression\n",
    "# Inputs:\n",
    "#     x: n-by-d matrix\n",
    "#     y: n-by-1 matrix\n",
    "#     lam: scalar, the regularization parameter\n",
    "#     b: integer, the batch size\n",
    "#     stepsize: scalar\n",
    "#     max_epoch: integer, the maximal epochs\n",
    "#     w: d-by-1 matrix, initialization of w\n",
    "# Return:\n",
    "#     w: the solution\n",
    "#     objvals: record of each iteration's objective value\n",
    "def mb_sgd(x, y, lam, b, stepsize, max_epoch=100, w=None):\n",
    "    # Fill the function\n",
    "    # Follow the implementation of sgd\n",
    "    # Record one objective value per epoch (not per iteration!)\n",
    "#------------------------------------------------------------------------------\n",
    "    objvals = numpy.zeros(max_epoch)\n",
    "    \n",
    "    # Remove extra data\n",
    "    x = x[:x.shape[0]-(x.shape[0]%b),:]\n",
    "    y = y[:y.shape[0]-(y.shape[0]%b),:]\n",
    "    \n",
    "    n,d = x.shape\n",
    "    \n",
    "    if w is None:\n",
    "         #w = numpy.zeros(d,1) \n",
    "        w = numpy.zeros((d,1))\n",
    "    for t in range(max_epoch):\n",
    "        rand_indices = numpy.random.permutation(n)\n",
    "        randX = x[rand_indices,:]\n",
    "        randY = y[rand_indices,:]\n",
    "    \n",
    "        if ((randX.shape[0]%b) == 0):\n",
    "            shapeX = int(randX.shape[0]/b)\n",
    "            randX = numpy.array(randX).reshape((shapeX , b , randX.shape[1]))\n",
    "            shapeY = int(randY.shape[0]/b)\n",
    "            randY = numpy.array(randY).reshape((shapeY , b , randY.shape[1]))\n",
    "            \n",
    "        obj_val = 0\n",
    "        for i in range(randX.shape[0]):\n",
    "            xi = randX[i,:,:]\n",
    "            yi = randY[i,:,:]\n",
    "            obj, g = mb_stochastic_objective_gradient(w, xi, yi, lam, b)\n",
    "            obj_val = obj_val + obj\n",
    "            w = w - (stepsize * g)\n",
    "        \n",
    "        stepsize = stepsize * 0.9\n",
    "        obj_val = obj_val / randX.shape[0]\n",
    "        objvals[t] = obj_val\n",
    "        print('Objective value at epoch t=' + str(t) + ' is ' + str(obj_val))\n",
    "    \n",
    "        \n",
    "    \n",
    "    return w, objvals"
   ]
  },
  {
   "cell_type": "markdown",
   "metadata": {},
   "source": [
    "## 6.3. Run MB-SGD"
   ]
  },
  {
   "cell_type": "code",
   "execution_count": 19,
   "metadata": {
    "scrolled": true
   },
   "outputs": [
    {
     "name": "stdout",
     "output_type": "stream",
     "text": [
      "Objective value at epoch t=0 is 0.5318138787369582\n",
      "Objective value at epoch t=1 is 0.49399872531665057\n",
      "Objective value at epoch t=2 is 0.49670892822250723\n",
      "Objective value at epoch t=3 is 0.4972778490417629\n",
      "Objective value at epoch t=4 is 0.4914407034950675\n",
      "Objective value at epoch t=5 is 0.49481144463060317\n",
      "Objective value at epoch t=6 is 0.49199419320030147\n",
      "Objective value at epoch t=7 is 0.4902428988893459\n",
      "Objective value at epoch t=8 is 0.4885641336054568\n",
      "Objective value at epoch t=9 is 0.49091895124662666\n",
      "Objective value at epoch t=10 is 0.4893689812085446\n",
      "Objective value at epoch t=11 is 0.48608592878462165\n",
      "Objective value at epoch t=12 is 0.48638551062491375\n",
      "Objective value at epoch t=13 is 0.48549463878231736\n",
      "Objective value at epoch t=14 is 0.4839989098462163\n",
      "Objective value at epoch t=15 is 0.4849114432926038\n",
      "Objective value at epoch t=16 is 0.48264552104255215\n",
      "Objective value at epoch t=17 is 0.48368779922627014\n",
      "Objective value at epoch t=18 is 0.4828344012652777\n",
      "Objective value at epoch t=19 is 0.4824411957241323\n",
      "Objective value at epoch t=20 is 0.48206244880808846\n",
      "Objective value at epoch t=21 is 0.48158480244378454\n",
      "Objective value at epoch t=22 is 0.4815303547383669\n",
      "Objective value at epoch t=23 is 0.48119077999306903\n",
      "Objective value at epoch t=24 is 0.48101488215039934\n",
      "Objective value at epoch t=25 is 0.4809894877606136\n",
      "Objective value at epoch t=26 is 0.48050714187113747\n",
      "Objective value at epoch t=27 is 0.4804797651214807\n",
      "Objective value at epoch t=28 is 0.48001639747847963\n",
      "Objective value at epoch t=29 is 0.4800589847354444\n",
      "Objective value at epoch t=30 is 0.48011889921345263\n",
      "Objective value at epoch t=31 is 0.47987899496394304\n",
      "Objective value at epoch t=32 is 0.4797377543451705\n",
      "Objective value at epoch t=33 is 0.4796580587926389\n",
      "Objective value at epoch t=34 is 0.4794120782295731\n",
      "Objective value at epoch t=35 is 0.4794765117021006\n",
      "Objective value at epoch t=36 is 0.47941533520380003\n",
      "Objective value at epoch t=37 is 0.47935239659947815\n",
      "Objective value at epoch t=38 is 0.47932793840273885\n",
      "Objective value at epoch t=39 is 0.47924371823225087\n",
      "Objective value at epoch t=40 is 0.479204809154201\n",
      "Objective value at epoch t=41 is 0.47920858193126586\n",
      "Objective value at epoch t=42 is 0.47913701027903893\n",
      "Objective value at epoch t=43 is 0.47908140350955863\n",
      "Objective value at epoch t=44 is 0.47908804682791406\n",
      "Objective value at epoch t=45 is 0.479049034827521\n",
      "Objective value at epoch t=46 is 0.47901106296086293\n",
      "Objective value at epoch t=47 is 0.47902156135297647\n",
      "Objective value at epoch t=48 is 0.4789680872867351\n",
      "Objective value at epoch t=49 is 0.47896972393263715\n",
      "Objective value at epoch t=50 is 0.4789428179727159\n",
      "Objective value at epoch t=51 is 0.478916963988253\n",
      "Objective value at epoch t=52 is 0.47890815691991717\n",
      "Objective value at epoch t=53 is 0.47890091671754426\n",
      "Objective value at epoch t=54 is 0.4788844853344899\n",
      "Objective value at epoch t=55 is 0.4788722304882073\n",
      "Objective value at epoch t=56 is 0.478864936190431\n",
      "Objective value at epoch t=57 is 0.4788650537671577\n",
      "Objective value at epoch t=58 is 0.47885460804044505\n",
      "Objective value at epoch t=59 is 0.4788491540372977\n",
      "Objective value at epoch t=60 is 0.4788439645866811\n",
      "Objective value at epoch t=61 is 0.47883836748485376\n",
      "Objective value at epoch t=62 is 0.47883819065192246\n",
      "Objective value at epoch t=63 is 0.47883232511403595\n",
      "Objective value at epoch t=64 is 0.47883044674532976\n",
      "Objective value at epoch t=65 is 0.47882676288966364\n",
      "Objective value at epoch t=66 is 0.4788236895006214\n",
      "Objective value at epoch t=67 is 0.4788192464786234\n",
      "Objective value at epoch t=68 is 0.4788182396010958\n",
      "Objective value at epoch t=69 is 0.47881487469167333\n",
      "Objective value at epoch t=70 is 0.47881153692383316\n",
      "Objective value at epoch t=71 is 0.4788123173232751\n",
      "Objective value at epoch t=72 is 0.47880924569871475\n",
      "Objective value at epoch t=73 is 0.4788085534682147\n",
      "Objective value at epoch t=74 is 0.4788073698622696\n",
      "Objective value at epoch t=75 is 0.47880554637475303\n",
      "Objective value at epoch t=76 is 0.4788048774046733\n",
      "Objective value at epoch t=77 is 0.4788033122084278\n",
      "Objective value at epoch t=78 is 0.47880189352075275\n",
      "Objective value at epoch t=79 is 0.47880157584622174\n",
      "Objective value at epoch t=80 is 0.47880118888313844\n",
      "Objective value at epoch t=81 is 0.4788009811950433\n",
      "Objective value at epoch t=82 is 0.4787995120572811\n",
      "Objective value at epoch t=83 is 0.47879933565627847\n",
      "Objective value at epoch t=84 is 0.478798800288393\n",
      "Objective value at epoch t=85 is 0.4787988674571868\n",
      "Objective value at epoch t=86 is 0.4787981461126612\n",
      "Objective value at epoch t=87 is 0.47879779316754095\n",
      "Objective value at epoch t=88 is 0.4787975832793574\n",
      "Objective value at epoch t=89 is 0.4787974018233845\n",
      "Objective value at epoch t=90 is 0.47879705730732375\n",
      "Objective value at epoch t=91 is 0.47879678128963415\n",
      "Objective value at epoch t=92 is 0.4787967744816327\n",
      "Objective value at epoch t=93 is 0.47879646488637617\n",
      "Objective value at epoch t=94 is 0.4787963333162235\n",
      "Objective value at epoch t=95 is 0.47879616157003985\n",
      "Objective value at epoch t=96 is 0.47879604866394876\n",
      "Objective value at epoch t=97 is 0.4787959597143052\n",
      "Objective value at epoch t=98 is 0.47879578093472863\n",
      "Objective value at epoch t=99 is 0.4787957016959317\n"
     ]
    }
   ],
   "source": [
    "# MB-SGD with batch size b=8\n",
    "lam = 1E-6 # do not change\n",
    "b = 8 # do not change\n",
    "stepsize = 0.3 # you must tune this parameter\n",
    "\n",
    "w, objvals_mbsgd8 = mb_sgd(x_train, y_train, lam, b, stepsize)"
   ]
  },
  {
   "cell_type": "code",
   "execution_count": 20,
   "metadata": {
    "scrolled": true
   },
   "outputs": [
    {
     "name": "stdout",
     "output_type": "stream",
     "text": [
      "Objective value at epoch t=0 is 0.5625502787450389\n",
      "Objective value at epoch t=1 is 0.496167295701074\n",
      "Objective value at epoch t=2 is 0.4873787257457611\n",
      "Objective value at epoch t=3 is 0.48600330318382123\n",
      "Objective value at epoch t=4 is 0.4841194518872987\n",
      "Objective value at epoch t=5 is 0.48346062859576744\n",
      "Objective value at epoch t=6 is 0.48481265794790074\n",
      "Objective value at epoch t=7 is 0.48257192390870934\n",
      "Objective value at epoch t=8 is 0.48149097772943295\n",
      "Objective value at epoch t=9 is 0.4817254079054389\n",
      "Objective value at epoch t=10 is 0.48126993813122426\n",
      "Objective value at epoch t=11 is 0.4806775791090569\n",
      "Objective value at epoch t=12 is 0.48046056429626793\n",
      "Objective value at epoch t=13 is 0.4806889006191635\n",
      "Objective value at epoch t=14 is 0.4805214372670072\n",
      "Objective value at epoch t=15 is 0.48057330936192616\n",
      "Objective value at epoch t=16 is 0.48010220013706817\n",
      "Objective value at epoch t=17 is 0.47986063685013597\n",
      "Objective value at epoch t=18 is 0.47996862499337445\n",
      "Objective value at epoch t=19 is 0.47966877412077846\n",
      "Objective value at epoch t=20 is 0.479738483445462\n",
      "Objective value at epoch t=21 is 0.47932755944142463\n",
      "Objective value at epoch t=22 is 0.47977936327236376\n",
      "Objective value at epoch t=23 is 0.47944639668992356\n",
      "Objective value at epoch t=24 is 0.4792760645193511\n",
      "Objective value at epoch t=25 is 0.4792067966435414\n",
      "Objective value at epoch t=26 is 0.4792444534143202\n",
      "Objective value at epoch t=27 is 0.4793184098112633\n",
      "Objective value at epoch t=28 is 0.4790942386352969\n",
      "Objective value at epoch t=29 is 0.47907441759821656\n",
      "Objective value at epoch t=30 is 0.4792219830227425\n",
      "Objective value at epoch t=31 is 0.479116791830066\n",
      "Objective value at epoch t=32 is 0.47905167359838147\n",
      "Objective value at epoch t=33 is 0.4789812051042805\n",
      "Objective value at epoch t=34 is 0.47894658600598855\n",
      "Objective value at epoch t=35 is 0.47897039776753736\n",
      "Objective value at epoch t=36 is 0.47897071153414494\n",
      "Objective value at epoch t=37 is 0.47897539546637385\n",
      "Objective value at epoch t=38 is 0.47892726541449493\n",
      "Objective value at epoch t=39 is 0.47896388069139784\n",
      "Objective value at epoch t=40 is 0.47892005780691926\n",
      "Objective value at epoch t=41 is 0.4789029198417949\n",
      "Objective value at epoch t=42 is 0.478912961807643\n",
      "Objective value at epoch t=43 is 0.47887860957834255\n",
      "Objective value at epoch t=44 is 0.47888762417004793\n",
      "Objective value at epoch t=45 is 0.47886754235089574\n",
      "Objective value at epoch t=46 is 0.4788455176300597\n",
      "Objective value at epoch t=47 is 0.4788472094145608\n",
      "Objective value at epoch t=48 is 0.4788401898561153\n",
      "Objective value at epoch t=49 is 0.47884316879552935\n",
      "Objective value at epoch t=50 is 0.4788448274757201\n",
      "Objective value at epoch t=51 is 0.4788211094425394\n",
      "Objective value at epoch t=52 is 0.4788280151280001\n",
      "Objective value at epoch t=53 is 0.4788266039442955\n",
      "Objective value at epoch t=54 is 0.4788208574775886\n",
      "Objective value at epoch t=55 is 0.47881974439582187\n",
      "Objective value at epoch t=56 is 0.4788245844828503\n",
      "Objective value at epoch t=57 is 0.47881517764736403\n",
      "Objective value at epoch t=58 is 0.478811492174569\n",
      "Objective value at epoch t=59 is 0.4788123430488504\n",
      "Objective value at epoch t=60 is 0.4788118443681378\n",
      "Objective value at epoch t=61 is 0.4788122313146136\n",
      "Objective value at epoch t=62 is 0.4788075667733576\n",
      "Objective value at epoch t=63 is 0.4788089637736267\n",
      "Objective value at epoch t=64 is 0.47880775522154745\n",
      "Objective value at epoch t=65 is 0.478806458173322\n",
      "Objective value at epoch t=66 is 0.4788051362329463\n",
      "Objective value at epoch t=67 is 0.4788052325049845\n",
      "Objective value at epoch t=68 is 0.4788044377892744\n",
      "Objective value at epoch t=69 is 0.47880285521767457\n",
      "Objective value at epoch t=70 is 0.478803580622721\n",
      "Objective value at epoch t=71 is 0.4788015903557607\n",
      "Objective value at epoch t=72 is 0.4788012975838318\n",
      "Objective value at epoch t=73 is 0.4788015829576323\n",
      "Objective value at epoch t=74 is 0.4788015458227319\n",
      "Objective value at epoch t=75 is 0.4788017289265502\n",
      "Objective value at epoch t=76 is 0.478800740541321\n",
      "Objective value at epoch t=77 is 0.47880004979053775\n",
      "Objective value at epoch t=78 is 0.4788007491394681\n",
      "Objective value at epoch t=79 is 0.4788001915704948\n",
      "Objective value at epoch t=80 is 0.478799695370291\n",
      "Objective value at epoch t=81 is 0.4787994694556141\n",
      "Objective value at epoch t=82 is 0.478799573741985\n",
      "Objective value at epoch t=83 is 0.47879912137802483\n",
      "Objective value at epoch t=84 is 0.4787992993767059\n",
      "Objective value at epoch t=85 is 0.47879924285437625\n",
      "Objective value at epoch t=86 is 0.4787990639717584\n",
      "Objective value at epoch t=87 is 0.47879897244713493\n",
      "Objective value at epoch t=88 is 0.4787993611098115\n",
      "Objective value at epoch t=89 is 0.47879894130152056\n",
      "Objective value at epoch t=90 is 0.4787988252890636\n",
      "Objective value at epoch t=91 is 0.47879894221755154\n",
      "Objective value at epoch t=92 is 0.4787988780884893\n",
      "Objective value at epoch t=93 is 0.47879863143186413\n",
      "Objective value at epoch t=94 is 0.4787987109418384\n",
      "Objective value at epoch t=95 is 0.4787985522960045\n",
      "Objective value at epoch t=96 is 0.478798507580456\n",
      "Objective value at epoch t=97 is 0.4787984881904207\n",
      "Objective value at epoch t=98 is 0.4787985716845814\n",
      "Objective value at epoch t=99 is 0.4787986115513248\n"
     ]
    }
   ],
   "source": [
    "# MB-SGD with batch size b=64\n",
    "lam = 1E-6 # do not change\n",
    "b = 64 # do not change\n",
    "stepsize = 0.68 # you must tune this parameter\n",
    "\n",
    "w, objvals_mbsgd64 = mb_sgd(x_train, y_train, lam, b, stepsize)"
   ]
  },
  {
   "cell_type": "markdown",
   "metadata": {},
   "source": [
    "# 7. Plot and compare GD, SGD, and MB-SGD"
   ]
  },
  {
   "cell_type": "markdown",
   "metadata": {},
   "source": [
    "You are required to compare the following algorithms:\n",
    "\n",
    "- Gradient descent (GD)\n",
    "\n",
    "- SGD\n",
    "\n",
    "- MB-SGD with b=8\n",
    "\n",
    "- MB-SGD with b=64\n",
    "\n",
    "Follow the code in Section 4 to plot ```objective function value``` against ```epochs```. There should be four curves in the plot; each curve corresponds to one algorithm."
   ]
  },
  {
   "cell_type": "markdown",
   "metadata": {},
   "source": [
    "Hint: Logistic regression with $\\ell_2$-norm regularization is a strongly convex optimization problem. All the algorithms will converge to the same solution. **In the end, the ``objective function value`` of the 4 algorithms will be the same. If not the same, your implementation must be wrong. Do NOT submit wrong code and wrong result!**"
   ]
  },
  {
   "cell_type": "code",
   "execution_count": 25,
   "metadata": {},
   "outputs": [
    {
     "data": {
      "image/png": "[encoded data removed]",
      "text/plain": [
       "<Figure size 432x288 with 1 Axes>"
      ]
     },
     "metadata": {
      "needs_background": "light"
     },
     "output_type": "display_data"
    }
   ],
   "source": [
    "# plot the 4 curves:\n",
    "\n",
    "import matplotlib.pyplot as plt\n",
    "%matplotlib inline\n",
    "\n",
    "fig = plt.figure (figsize = (6,4))\n",
    "\n",
    "epochs_gd = range(len(objvals_gd))\n",
    "epochs_sgd = range(len(objvals_sgd))\n",
    "epochs_mbsgd8 = range(len(objvals_mbsgd8))\n",
    "epochs_mbsgd64 = range(len(objvals_mbsgd64))\n",
    "\n",
    "line0, = plt.plot(epochs_gd, objvals_gd, '--b', LineWidth=2)\n",
    "line1, = plt.plot(epochs_sgd, objvals_sgd, '-r', LineWidth=2)\n",
    "line2, = plt.plot(epochs_mbsgd8, objvals_mbsgd8, '-k', LineWidth=1)\n",
    "line3, = plt.plot(epochs_mbsgd64, objvals_mbsgd64, '--m', LineWidth=1)\n",
    "\n",
    "plt.xlabel('Epochs', FontSize=20)\n",
    "plt.ylabel('Objective Value', FontSize=20)\n",
    "plt.xticks(FontSize=16)\n",
    "plt.yticks(FontSize=16)\n",
    "plt.legend([line0, line1, line2, line3], ['GD', 'SGD', 'MB-SGD8', 'MB-SGD64'], fontsize=20)\n",
    "plt.tight_layout()\n",
    "plt.show()\n",
    "fig.savefig('compare_gd_sgd_mb8_mb64.pdf', format='pdf', dpi=1200)"
   ]
  },
  {
   "cell_type": "markdown",
   "metadata": {},
   "source": []
  }
 ],
 "metadata": {
  "kernelspec": {
   "display_name": "Python 3",
   "language": "python",
   "name": "python3"
  },
  "language_info": {
   "codemirror_mode": {
    "name": "ipython",
    "version": 3
   },
   "file_extension": ".py",
   "mimetype": "text/x-python",
   "name": "python",
   "nbconvert_exporter": "python",
   "pygments_lexer": "ipython3",
   "version": "3.7.4"
  }
 },
 "nbformat": 4,
 "nbformat_minor": 2
}
