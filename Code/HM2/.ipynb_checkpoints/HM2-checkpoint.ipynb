{
 "cells": [
  {
   "cell_type": "markdown",
   "metadata": {},
   "source": [
    "# HM2: Numerical Optimization for Logistic Regression.\n",
    "\n",
    "### Name: Harman Singh Bath\n"
   ]
  },
  {
   "cell_type": "markdown",
   "metadata": {},
   "source": [
    "## 0. You will do the following:\n",
    "\n",
    "1. Read the lecture note: [click here](https://github.com/wangshusen/DeepLearning/blob/master/LectureNotes/Logistic/paper/logistic.pdf)\n",
    "\n",
    "2. Read, complete, and run my code.\n",
    "\n",
    "3. **Implement mini-batch SGD** and evaluate the performance.\n",
    "\n",
    "4. Convert the .IPYNB file to .HTML file.\n",
    "\n",
    "    * The HTML file must contain **the code** and **the output after execution**.\n",
    "    \n",
    "    * Missing **the output after execution** will not be graded.\n",
    "    \n",
    "5. Upload this .HTML file to your Google Drive, Dropbox, or your Github repo.  (If you submit the file to Google Drive or Dropbox, you must make the file \"open-access\". The delay caused by \"deny of access\" may result in late penalty.)\n",
    "\n",
    "6. Submit the link to this .HTML file to Canvas.\n",
    "\n",
    "    * Example: https://github.com/wangshusen/CS583-2020S/blob/master/homework/HM2/HM2.html\n",
    "\n",
    "\n",
    "## Grading criteria:\n",
    "\n",
    "1. When computing the ```gradient``` and ```objective function value``` using a batch of samples, use **matrix-vector multiplication** rather than a FOR LOOP of **vector-vector multiplications**.\n",
    "\n",
    "2. Plot ```objective function value``` against ```epochs```. In the plot, compare GD, SGD, and MB-SGD (with $b=8$ and $b=64$). The plot must look reasonable."
   ]
  },
  {
   "cell_type": "code",
   "execution_count": null,
   "metadata": {},
   "outputs": [],
   "source": []
  },
  {
   "cell_type": "markdown",
   "metadata": {},
   "source": [
    "# 1. Data processing\n",
    "\n",
    "- Download the Diabete dataset from https://www.csie.ntu.edu.tw/~cjlin/libsvmtools/datasets/binary/diabetes\n",
    "- Load the data using sklearn.\n",
    "- Preprocess the data."
   ]
  },
  {
   "cell_type": "markdown",
   "metadata": {},
   "source": [
    "## 1.1. Load the data"
   ]
  },
  {
   "cell_type": "code",
   "execution_count": 60,
   "metadata": {},
   "outputs": [
    {
     "name": "stdout",
     "output_type": "stream",
     "text": [
      "Shape of x: (768, 8)\n",
      "Shape of y: (768,)\n"
     ]
    }
   ],
   "source": [
    "from sklearn import datasets\n",
    "import numpy\n",
    "\n",
    "x_sparse, y = datasets.load_svmlight_file('diabetes')\n",
    "x = x_sparse.todense()\n",
    "\n",
    "print('Shape of x: ' + str(x.shape))\n",
    "print('Shape of y: ' + str(y.shape))"
   ]
  },
  {
   "cell_type": "markdown",
   "metadata": {},
   "source": [
    "## 1.2. Partition to training and test sets"
   ]
  },
  {
   "cell_type": "code",
   "execution_count": 61,
   "metadata": {},
   "outputs": [
    {
     "name": "stdout",
     "output_type": "stream",
     "text": [
      "Shape of x_train: (640, 8)\n",
      "Shape of x_test: (128, 8)\n",
      "Shape of y_train: (640, 1)\n",
      "Shape of y_test: (128, 1)\n"
     ]
    }
   ],
   "source": [
    "# partition the data to training and test sets\n",
    "n = x.shape[0]\n",
    "n_train = 640\n",
    "n_test = n - n_train\n",
    "\n",
    "rand_indices = numpy.random.permutation(n)\n",
    "train_indices = rand_indices[0:n_train]\n",
    "test_indices = rand_indices[n_train:n]\n",
    "\n",
    "x_train = x[train_indices, :]\n",
    "x_test = x[test_indices, :]\n",
    "y_train = y[train_indices].reshape(n_train, 1)\n",
    "y_test = y[test_indices].reshape(n_test, 1)\n",
    "\n",
    "print('Shape of x_train: ' + str(x_train.shape))\n",
    "print('Shape of x_test: ' + str(x_test.shape))\n",
    "print('Shape of y_train: ' + str(y_train.shape))\n",
    "print('Shape of y_test: ' + str(y_test.shape))"
   ]
  },
  {
   "cell_type": "markdown",
   "metadata": {},
   "source": [
    "## 1.3. Feature scaling"
   ]
  },
  {
   "cell_type": "markdown",
   "metadata": {},
   "source": [
    "Use the standardization to trainsform both training and test features"
   ]
  },
  {
   "cell_type": "code",
   "execution_count": 62,
   "metadata": {},
   "outputs": [
    {
     "name": "stdout",
     "output_type": "stream",
     "text": [
      "test mean = \n",
      "[[-0.10529029 -0.08714202 -0.08878093 -0.23374715 -0.03352852 -0.0502287\n",
      "  -0.03831603 -0.01668485]]\n",
      "test std = \n",
      "[[0.93911714 1.06653166 1.17623933 1.00475498 1.0075898  1.00798967\n",
      "  1.05243075 1.02353697]]\n"
     ]
    }
   ],
   "source": [
    "# Standardization\n",
    "import numpy\n",
    "\n",
    "# calculate mu and sig using the training set\n",
    "d = x_train.shape[1]\n",
    "mu = numpy.mean(x_train, axis=0).reshape(1, d)\n",
    "sig = numpy.std(x_train, axis=0).reshape(1, d)\n",
    "\n",
    "# transform the training features\n",
    "x_train = (x_train - mu) / (sig + 1E-6)\n",
    "\n",
    "# transform the test features\n",
    "x_test = (x_test - mu) / (sig + 1E-6)\n",
    "\n",
    "print('test mean = ')\n",
    "print(numpy.mean(x_test, axis=0))\n",
    "\n",
    "print('test std = ')\n",
    "print(numpy.std(x_test, axis=0))"
   ]
  },
  {
   "cell_type": "markdown",
   "metadata": {},
   "source": [
    "## 1.4. Add a dimension of all ones"
   ]
  },
  {
   "cell_type": "code",
   "execution_count": 63,
   "metadata": {},
   "outputs": [
    {
     "name": "stdout",
     "output_type": "stream",
     "text": [
      "Shape of x_train: (640, 9)\n",
      "Shape of x_test: (128, 9)\n"
     ]
    }
   ],
   "source": [
    "n_train, d = x_train.shape\n",
    "x_train = numpy.concatenate((x_train, numpy.ones((n_train, 1))), axis=1)\n",
    "\n",
    "n_test, d = x_test.shape\n",
    "x_test = numpy.concatenate((x_test, numpy.ones((n_test, 1))), axis=1)\n",
    "\n",
    "print('Shape of x_train: ' + str(x_train.shape))\n",
    "print('Shape of x_test: ' + str(x_test.shape))"
   ]
  },
  {
   "cell_type": "markdown",
   "metadata": {},
   "source": [
    "# 2. Logistic regression model\n",
    "\n",
    "The objective function is $Q (w; X, y) = \\frac{1}{n} \\sum_{i=1}^n \\log \\Big( 1 + \\exp \\big( - y_i x_i^T w \\big) \\Big) + \\frac{\\lambda}{2} \\| w \\|_2^2 $."
   ]
  },
  {
   "cell_type": "code",
   "execution_count": 64,
   "metadata": {},
   "outputs": [],
   "source": [
    "# Calculate the objective function value\n",
    "# Inputs:\n",
    "#     w: d-by-1 matrix\n",
    "#     x: n-by-d matrix\n",
    "#     y: n-by-1 matrix\n",
    "#     lam: scalar, the regularization parameter\n",
    "# Return:\n",
    "#     objective function value (scalar)\n",
    "def objective(w, x, y, lam):\n",
    "    n, d = x.shape\n",
    "    yx = numpy.multiply(y, x) # n-by-d matrix\n",
    "    yxw = numpy.dot(yx, w) # n-by-1 matrix\n",
    "    vec1 = numpy.exp(-yxw) # n-by-1 matrix\n",
    "    vec2 = numpy.log(1 + vec1) # n-by-1 matrix\n",
    "    loss = numpy.mean(vec2) # scalar\n",
    "    reg = lam / 2 * numpy.sum(w * w) # scalar\n",
    "    return loss + reg\n",
    "    "
   ]
  },
  {
   "cell_type": "code",
   "execution_count": 65,
   "metadata": {},
   "outputs": [
    {
     "name": "stdout",
     "output_type": "stream",
     "text": [
      "Initial objective function value = 0.6931471805599453\n"
     ]
    }
   ],
   "source": [
    "# initialize w\n",
    "d = x_train.shape[1]\n",
    "w = numpy.zeros((d, 1))\n",
    "\n",
    "# evaluate the objective function value at w\n",
    "lam = 1E-6\n",
    "objval0 = objective(w, x_train, y_train, lam)\n",
    "print('Initial objective function value = ' + str(objval0))"
   ]
  },
  {
   "cell_type": "markdown",
   "metadata": {},
   "source": [
    "# 3. Numerical optimization"
   ]
  },
  {
   "cell_type": "markdown",
   "metadata": {},
   "source": [
    "## 3.1. Gradient descent\n"
   ]
  },
  {
   "cell_type": "markdown",
   "metadata": {},
   "source": [
    "The gradient at $w$ is $g = - \\frac{1}{n} \\sum_{i=1}^n \\frac{y_i x_i }{1 + \\exp ( y_i x_i^T w)} + \\lambda w$"
   ]
  },
  {
   "cell_type": "code",
   "execution_count": 66,
   "metadata": {},
   "outputs": [],
   "source": [
    "# Calculate the gradient\n",
    "# Inputs:\n",
    "#     w: d-by-1 matrix\n",
    "#     x: n-by-d matrix\n",
    "#     y: n-by-1 matrix\n",
    "#     lam: scalar, the regularization parameter\n",
    "# Return:\n",
    "#     g: g: d-by-1 matrix, full gradient\n",
    "def gradient(w, x, y, lam):\n",
    "    n, d = x.shape\n",
    "    yx = numpy.multiply(y, x) # n-by-d matrix\n",
    "    yxw = numpy.dot(yx, w) # n-by-1 matrix\n",
    "    vec1 = numpy.exp(yxw) # n-by-1 matrix\n",
    "    vec2 = numpy.divide(yx, 1+vec1) # n-by-d matrix\n",
    "    vec3 = -numpy.mean(vec2, axis=0).reshape(d, 1) # d-by-1 matrix\n",
    "    g = vec3 + lam * w\n",
    "    return g"
   ]
  },
  {
   "cell_type": "code",
   "execution_count": 67,
   "metadata": {},
   "outputs": [],
   "source": [
    "# Gradient descent for solving logistic regression\n",
    "# Inputs:\n",
    "#     x: n-by-d matrix\n",
    "#     y: n-by-1 matrix\n",
    "#     lam: scalar, the regularization parameter\n",
    "#     stepsize: scalar\n",
    "#     max_iter: integer, the maximal iterations\n",
    "#     w: d-by-1 matrix, initialization of w\n",
    "# Return:\n",
    "#     w: d-by-1 matrix, the solution\n",
    "#     objvals: a record of each iteration's objective value\n",
    "def grad_descent(x, y, lam, stepsize, max_iter=100, w=None):\n",
    "    n, d = x.shape\n",
    "    objvals = numpy.zeros(max_iter) # store the objective values\n",
    "    if w is None:\n",
    "        w = numpy.zeros((d, 1)) # zero initialization\n",
    "    \n",
    "    for t in range(max_iter):\n",
    "        objval = objective(w, x, y, lam)\n",
    "        objvals[t] = objval\n",
    "        print('Objective value at t=' + str(t) + ' is ' + str(objval))\n",
    "        g = gradient(w, x, y, lam)\n",
    "        w -= stepsize * g\n",
    "    \n",
    "    return w, objvals"
   ]
  },
  {
   "cell_type": "markdown",
   "metadata": {},
   "source": [
    "Run gradient descent."
   ]
  },
  {
   "cell_type": "code",
   "execution_count": 68,
   "metadata": {
    "scrolled": true
   },
   "outputs": [
    {
     "name": "stdout",
     "output_type": "stream",
     "text": [
      "Objective value at t=0 is 0.6931471805599453\n",
      "Objective value at t=1 is 0.5876710398398933\n",
      "Objective value at t=2 is 0.5462364397551471\n",
      "Objective value at t=3 is 0.5241089651370844\n",
      "Objective value at t=4 is 0.510304809006201\n",
      "Objective value at t=5 is 0.5009436400071325\n",
      "Objective value at t=6 is 0.4942652098838911\n",
      "Objective value at t=7 is 0.4893353068817672\n",
      "Objective value at t=8 is 0.4856044719483619\n",
      "Objective value at t=9 is 0.4827261863673748\n",
      "Objective value at t=10 is 0.48047085745200324\n",
      "Objective value at t=11 is 0.47868069510641564\n",
      "Objective value at t=12 is 0.47724413065322163\n",
      "Objective value at t=13 is 0.4760804411513109\n",
      "Objective value at t=14 is 0.47513008530709555\n",
      "Objective value at t=15 is 0.47434841300159003\n",
      "Objective value at t=16 is 0.47370145356716925\n",
      "Objective value at t=17 is 0.4731630289184278\n",
      "Objective value at t=18 is 0.4727127346774529\n",
      "Objective value at t=19 is 0.47233450329977095\n",
      "Objective value at t=20 is 0.47201556529600747\n",
      "Objective value at t=21 is 0.47174568757360724\n",
      "Objective value at t=22 is 0.47151660773857684\n",
      "Objective value at t=23 is 0.47132160895482667\n",
      "Objective value at t=24 is 0.4711551969470528\n",
      "Objective value at t=25 is 0.4710128521312622\n",
      "Objective value at t=26 is 0.4708908376234082\n",
      "Objective value at t=27 is 0.4707860492433427\n",
      "Objective value at t=28 is 0.4706958973882718\n",
      "Objective value at t=29 is 0.4706182133118468\n",
      "Objective value at t=30 is 0.4705511742524602\n",
      "Objective value at t=31 is 0.47049324323562675\n",
      "Objective value at t=32 is 0.47044312038562774\n",
      "Objective value at t=33 is 0.4703997033275174\n",
      "Objective value at t=34 is 0.4703620548162221\n",
      "Objective value at t=35 is 0.47032937614684567\n",
      "Objective value at t=36 is 0.47030098521634367\n",
      "Objective value at t=37 is 0.47027629834785895\n",
      "Objective value at t=38 is 0.4702548151743189\n",
      "Objective value at t=39 is 0.4702361060212665\n",
      "Objective value at t=40 is 0.47021980134056873\n",
      "Objective value at t=41 is 0.47020558283414143\n",
      "Objective value at t=42 is 0.4701931759758155\n",
      "Objective value at t=43 is 0.4701823436941384\n",
      "Objective value at t=44 is 0.47017288102248916\n",
      "Objective value at t=45 is 0.4701646105577878\n",
      "Objective value at t=46 is 0.4701573785971736\n",
      "Objective value at t=47 is 0.470151051844752\n",
      "Objective value at t=48 is 0.4701455145989533\n",
      "Objective value at t=49 is 0.47014066634610485\n",
      "Objective value at t=50 is 0.47013641969813297\n",
      "Objective value at t=51 is 0.4701326986224416\n",
      "Objective value at t=52 is 0.47012943692037074\n",
      "Objective value at t=53 is 0.47012657691754633\n",
      "Objective value at t=54 is 0.4701240683351802\n",
      "Objective value at t=55 is 0.47012186731615585\n",
      "Objective value at t=56 is 0.470119935583731\n",
      "Objective value at t=57 is 0.4701182397140343\n",
      "Objective value at t=58 is 0.4701167505063413\n",
      "Objective value at t=59 is 0.47011544243747844\n",
      "Objective value at t=60 is 0.4701142931887038\n",
      "Objective value at t=61 is 0.47011328323509566\n",
      "Objective value at t=62 is 0.47011239548891226\n",
      "Objective value at t=63 is 0.4701116149896013\n",
      "Objective value at t=64 is 0.4701109286341689\n",
      "Objective value at t=65 is 0.4701103249424993\n",
      "Objective value at t=66 is 0.4701097938529653\n",
      "Objective value at t=67 is 0.4701093265443182\n",
      "Objective value at t=68 is 0.4701089152803861\n",
      "Objective value at t=69 is 0.4701085532745925\n",
      "Objective value at t=70 is 0.47010823457170114\n",
      "Objective value at t=71 is 0.4701079539445506\n",
      "Objective value at t=72 is 0.4701077068038346\n",
      "Objective value at t=73 is 0.47010748911924627\n",
      "Objective value at t=74 is 0.47010729735052614\n",
      "Objective value at t=75 is 0.4701071283871458\n",
      "Objective value at t=76 is 0.47010697949552493\n",
      "Objective value at t=77 is 0.4701068482728251\n",
      "Objective value at t=78 is 0.470106732606485\n",
      "Objective value at t=79 is 0.4701066306387728\n",
      "Objective value at t=80 is 0.47010654073572433\n",
      "Objective value at t=81 is 0.4701064614599133\n",
      "Objective value at t=82 is 0.470106391546577\n",
      "Objective value at t=83 is 0.47010632988267487\n",
      "Objective value at t=84 is 0.47010627548851736\n",
      "Objective value at t=85 is 0.4701062275016432\n",
      "Objective value at t=86 is 0.4701061851626666\n",
      "Objective value at t=87 is 0.47010614780285276\n",
      "Objective value at t=88 is 0.47010611483320375\n",
      "Objective value at t=89 is 0.47010608573487406\n",
      "Objective value at t=90 is 0.47010606005074745\n",
      "Objective value at t=91 is 0.4701060373780349\n",
      "Objective value at t=92 is 0.4701060173617702\n",
      "Objective value at t=93 is 0.47010599968908795\n",
      "Objective value at t=94 is 0.4701059840841952\n",
      "Objective value at t=95 is 0.47010597030394674\n",
      "Objective value at t=96 is 0.4701059581339542\n",
      "Objective value at t=97 is 0.47010594738516154\n",
      "Objective value at t=98 is 0.4701059378908322\n",
      "Objective value at t=99 is 0.4701059295038972\n"
     ]
    }
   ],
   "source": [
    "lam = 1E-6\n",
    "stepsize = 1.0\n",
    "w, objvals_gd = grad_descent(x_train, y_train, lam, stepsize)"
   ]
  },
  {
   "cell_type": "markdown",
   "metadata": {},
   "source": [
    "## 3.2. Stochastic gradient descent (SGD)\n",
    "\n",
    "Define $Q_i (w) = \\log \\Big( 1 + \\exp \\big( - y_i x_i^T w \\big) \\Big) + \\frac{\\lambda}{2} \\| w \\|_2^2 $.\n",
    "\n",
    "The stochastic gradient at $w$ is $g_i = \\frac{\\partial Q_i }{ \\partial w} = -\\frac{y_i x_i }{1 + \\exp ( y_i x_i^T w)} + \\lambda w$."
   ]
  },
  {
   "cell_type": "code",
   "execution_count": 69,
   "metadata": {},
   "outputs": [],
   "source": [
    "# Calculate the objective Q_i and the gradient of Q_i\n",
    "# Inputs:\n",
    "#     w: d-by-1 matrix\n",
    "#     xi: 1-by-d matrix\n",
    "#     yi: scalar\n",
    "#     lam: scalar, the regularization parameter\n",
    "# Return:\n",
    "#     obj: scalar, the objective Q_i\n",
    "#     g: d-by-1 matrix, gradient of Q_i\n",
    "def stochastic_objective_gradient(w, xi, yi, lam):\n",
    "    d = xi.shape[0]\n",
    "    yx = yi * xi # 1-by-d matrix\n",
    "    yxw = float(numpy.dot(yx, w)) # scalar\n",
    "    \n",
    "    # calculate objective function Q_i\n",
    "    loss = numpy.log(1 + numpy.exp(-yxw)) # scalar\n",
    "    reg = lam / 2 * numpy.sum(w * w) # scalar\n",
    "    obj = loss + reg\n",
    "    \n",
    "    # calculate stochastic gradient\n",
    "    g_loss = -yx.T / (1 + numpy.exp(yxw)) # d-by-1 matrix\n",
    "    g = g_loss + lam * w # d-by-1 matrix\n",
    "    \n",
    "    return obj, g"
   ]
  },
  {
   "cell_type": "code",
   "execution_count": 70,
   "metadata": {},
   "outputs": [],
   "source": [
    "# SGD for solving logistic regression\n",
    "# Inputs:\n",
    "#     x: n-by-d matrix\n",
    "#     y: n-by-1 matrix\n",
    "#     lam: scalar, the regularization parameter\n",
    "#     stepsize: scalar\n",
    "#     max_epoch: integer, the maximal epochs\n",
    "#     w: d-by-1 matrix, initialization of w\n",
    "# Return:\n",
    "#     w: the solution\n",
    "#     objvals: record of each iteration's objective value\n",
    "def sgd(x, y, lam, stepsize, max_epoch=100, w=None):\n",
    "    n, d = x.shape\n",
    "    objvals = numpy.zeros(max_epoch) # store the objective values\n",
    "    if w is None:\n",
    "        w = numpy.zeros((d, 1)) # zero initialization\n",
    "    \n",
    "    for t in range(max_epoch):\n",
    "        # randomly shuffle the samples\n",
    "        rand_indices = numpy.random.permutation(n)\n",
    "        x_rand = x[rand_indices, :]\n",
    "        y_rand = y[rand_indices, :]\n",
    "        \n",
    "        objval = 0 # accumulate the objective values\n",
    "        for i in range(n):\n",
    "            xi = x_rand[i, :] # 1-by-d matrix\n",
    "            yi = float(y_rand[i, :]) # scalar\n",
    "            obj, g = stochastic_objective_gradient(w, xi, yi, lam)\n",
    "            objval += obj\n",
    "            w -= stepsize * g\n",
    "        \n",
    "        stepsize *= 0.9 # decrease step size\n",
    "        objval /= n\n",
    "        objvals[t] = objval\n",
    "        print('Objective value at epoch t=' + str(t) + ' is ' + str(objval))\n",
    "    \n",
    "    return w, objvals"
   ]
  },
  {
   "cell_type": "markdown",
   "metadata": {},
   "source": [
    "Run SGD."
   ]
  },
  {
   "cell_type": "code",
   "execution_count": 71,
   "metadata": {
    "scrolled": true
   },
   "outputs": [
    {
     "name": "stdout",
     "output_type": "stream",
     "text": [
      "Objective value at epoch t=0 is 0.5262999433227199\n",
      "Objective value at epoch t=1 is 0.5154008417220071\n",
      "Objective value at epoch t=2 is 0.5124148644980169\n",
      "Objective value at epoch t=3 is 0.5072670844677372\n",
      "Objective value at epoch t=4 is 0.4990102001067914\n",
      "Objective value at epoch t=5 is 0.4967073047977948\n",
      "Objective value at epoch t=6 is 0.5014318764851201\n",
      "Objective value at epoch t=7 is 0.49944505462742994\n",
      "Objective value at epoch t=8 is 0.4938607450568995\n",
      "Objective value at epoch t=9 is 0.4896094765240294\n",
      "Objective value at epoch t=10 is 0.48807279872180187\n",
      "Objective value at epoch t=11 is 0.4911030669256145\n",
      "Objective value at epoch t=12 is 0.48649132038884374\n",
      "Objective value at epoch t=13 is 0.48311744062678785\n",
      "Objective value at epoch t=14 is 0.481202871203753\n",
      "Objective value at epoch t=15 is 0.48380650442487766\n",
      "Objective value at epoch t=16 is 0.48253092304146206\n",
      "Objective value at epoch t=17 is 0.4817852663938772\n",
      "Objective value at epoch t=18 is 0.47922922147361924\n",
      "Objective value at epoch t=19 is 0.477776260605154\n",
      "Objective value at epoch t=20 is 0.47855043852334783\n",
      "Objective value at epoch t=21 is 0.4756514041677562\n",
      "Objective value at epoch t=22 is 0.47666242410411525\n",
      "Objective value at epoch t=23 is 0.47594753273636786\n",
      "Objective value at epoch t=24 is 0.47512484672865163\n",
      "Objective value at epoch t=25 is 0.4750579417974331\n",
      "Objective value at epoch t=26 is 0.4746918828684786\n",
      "Objective value at epoch t=27 is 0.47402551509563057\n",
      "Objective value at epoch t=28 is 0.47386450835093036\n",
      "Objective value at epoch t=29 is 0.4735194148886201\n",
      "Objective value at epoch t=30 is 0.4731616833973368\n",
      "Objective value at epoch t=31 is 0.47285638604951385\n",
      "Objective value at epoch t=32 is 0.47262901257321965\n",
      "Objective value at epoch t=33 is 0.47233631866147324\n",
      "Objective value at epoch t=34 is 0.47205957135196375\n",
      "Objective value at epoch t=35 is 0.47189162857712325\n",
      "Objective value at epoch t=36 is 0.4717332858854736\n",
      "Objective value at epoch t=37 is 0.4715792182487748\n",
      "Objective value at epoch t=38 is 0.47143353479966477\n",
      "Objective value at epoch t=39 is 0.4712981280068901\n",
      "Objective value at epoch t=40 is 0.4711651593753124\n",
      "Objective value at epoch t=41 is 0.4710745857253575\n",
      "Objective value at epoch t=42 is 0.47098552614341777\n",
      "Objective value at epoch t=43 is 0.4708984192253525\n",
      "Objective value at epoch t=44 is 0.47080628253595525\n",
      "Objective value at epoch t=45 is 0.47074921376513085\n",
      "Objective value at epoch t=46 is 0.47068722702626803\n",
      "Objective value at epoch t=47 is 0.4706280181883466\n",
      "Objective value at epoch t=48 is 0.47057518975622836\n",
      "Objective value at epoch t=49 is 0.47052998183752265\n",
      "Objective value at epoch t=50 is 0.470486806988563\n",
      "Objective value at epoch t=51 is 0.47044748258141017\n",
      "Objective value at epoch t=52 is 0.4704151272622677\n",
      "Objective value at epoch t=53 is 0.4703844050384962\n",
      "Objective value at epoch t=54 is 0.4703581236144938\n",
      "Objective value at epoch t=55 is 0.470332689211218\n",
      "Objective value at epoch t=56 is 0.47031007041383016\n",
      "Objective value at epoch t=57 is 0.4702876979632268\n",
      "Objective value at epoch t=58 is 0.4702716014840771\n",
      "Objective value at epoch t=59 is 0.47025481898646504\n",
      "Objective value at epoch t=60 is 0.47024022127554216\n",
      "Objective value at epoch t=61 is 0.4702267678926747\n",
      "Objective value at epoch t=62 is 0.4702146458039927\n",
      "Objective value at epoch t=63 is 0.47020400593470696\n",
      "Objective value at epoch t=64 is 0.4701942463790635\n",
      "Objective value at epoch t=65 is 0.4701854191874889\n",
      "Objective value at epoch t=66 is 0.4701775269622114\n",
      "Objective value at epoch t=67 is 0.4701703526603895\n",
      "Objective value at epoch t=68 is 0.4701640406817226\n",
      "Objective value at epoch t=69 is 0.4701582090910265\n",
      "Objective value at epoch t=70 is 0.4701530790525898\n",
      "Objective value at epoch t=71 is 0.4701483963394268\n",
      "Objective value at epoch t=72 is 0.47014414033629015\n",
      "Objective value at epoch t=73 is 0.4701404280865901\n",
      "Objective value at epoch t=74 is 0.4701370015928673\n",
      "Objective value at epoch t=75 is 0.47013394155836324\n",
      "Objective value at epoch t=76 is 0.4701311944823655\n",
      "Objective value at epoch t=77 is 0.47012871167897713\n",
      "Objective value at epoch t=78 is 0.4701264740581356\n",
      "Objective value at epoch t=79 is 0.47012446228277327\n",
      "Objective value at epoch t=80 is 0.4701226539523337\n",
      "Objective value at epoch t=81 is 0.4701210260021048\n",
      "Objective value at epoch t=82 is 0.47011955982132675\n",
      "Objective value at epoch t=83 is 0.47011823828498345\n",
      "Objective value at epoch t=84 is 0.470117052194563\n",
      "Objective value at epoch t=85 is 0.4701159820649859\n",
      "Objective value at epoch t=86 is 0.47011501926471844\n",
      "Objective value at epoch t=87 is 0.4701141538113448\n",
      "Objective value at epoch t=88 is 0.4701133730841038\n",
      "Objective value at epoch t=89 is 0.470112672933526\n",
      "Objective value at epoch t=90 is 0.4701120411376233\n",
      "Objective value at epoch t=91 is 0.47011147307474976\n",
      "Objective value at epoch t=92 is 0.4701109619258652\n",
      "Objective value at epoch t=93 is 0.47011050157127476\n",
      "Objective value at epoch t=94 is 0.4701100871335478\n",
      "Objective value at epoch t=95 is 0.4701097140447154\n",
      "Objective value at epoch t=96 is 0.4701093787791021\n",
      "Objective value at epoch t=97 is 0.47010907664865514\n",
      "Objective value at epoch t=98 is 0.4701088049151519\n",
      "Objective value at epoch t=99 is 0.4701085602402156\n"
     ]
    }
   ],
   "source": [
    "lam = 1E-6\n",
    "stepsize = 0.1\n",
    "w, objvals_sgd = sgd(x_train, y_train, lam, stepsize)"
   ]
  },
  {
   "cell_type": "markdown",
   "metadata": {},
   "source": [
    "# 4. Compare GD with SGD\n",
    "\n",
    "Plot objective function values against epochs."
   ]
  },
  {
   "cell_type": "code",
   "execution_count": 72,
   "metadata": {},
   "outputs": [
    {
     "data": {
      "image/png": "[encoded data removed]",
      "text/plain": [
       "<Figure size 432x288 with 1 Axes>"
      ]
     },
     "metadata": {
      "needs_background": "light"
     },
     "output_type": "display_data"
    }
   ],
   "source": [
    "import matplotlib.pyplot as plt\n",
    "%matplotlib inline\n",
    "\n",
    "fig = plt.figure(figsize=(6, 4))\n",
    "\n",
    "epochs_gd = range(len(objvals_gd))\n",
    "epochs_sgd = range(len(objvals_sgd))\n",
    "\n",
    "line0, = plt.plot(epochs_gd, objvals_gd, '--b', LineWidth=4)\n",
    "line1, = plt.plot(epochs_sgd, objvals_sgd, '-r', LineWidth=2)\n",
    "plt.xlabel('Epochs', FontSize=20)\n",
    "plt.ylabel('Objective Value', FontSize=20)\n",
    "plt.xticks(FontSize=16)\n",
    "plt.yticks(FontSize=16)\n",
    "plt.legend([line0, line1], ['GD', 'SGD'], fontsize=20)\n",
    "plt.tight_layout()\n",
    "plt.show()\n",
    "fig.savefig('compare_gd_sgd.pdf', format='pdf', dpi=1200)"
   ]
  },
  {
   "cell_type": "markdown",
   "metadata": {},
   "source": [
    "# 5. Prediction"
   ]
  },
  {
   "cell_type": "code",
   "execution_count": 73,
   "metadata": {},
   "outputs": [],
   "source": [
    "# Predict class label\n",
    "# Inputs:\n",
    "#     w: d-by-1 matrix\n",
    "#     X: m-by-d matrix\n",
    "# Return:\n",
    "#     f: m-by-1 matrix, the predictions\n",
    "def predict(w, X):\n",
    "    xw = numpy.dot(X, w)\n",
    "    f = numpy.sign(xw)\n",
    "    return f"
   ]
  },
  {
   "cell_type": "code",
   "execution_count": 74,
   "metadata": {},
   "outputs": [
    {
     "name": "stdout",
     "output_type": "stream",
     "text": [
      "Training classification error is 0.2234375\n"
     ]
    }
   ],
   "source": [
    "# evaluate training error\n",
    "f_train = predict(w, x_train)\n",
    "diff = numpy.abs(f_train - y_train) / 2\n",
    "error_train = numpy.mean(diff)\n",
    "print('Training classification error is ' + str(error_train))"
   ]
  },
  {
   "cell_type": "code",
   "execution_count": 75,
   "metadata": {},
   "outputs": [
    {
     "name": "stdout",
     "output_type": "stream",
     "text": [
      "Test classification error is 0.1875\n"
     ]
    }
   ],
   "source": [
    "# evaluate test error\n",
    "f_test = predict(w, x_test)\n",
    "diff = numpy.abs(f_test - y_test) / 2\n",
    "error_test = numpy.mean(diff)\n",
    "print('Test classification error is ' + str(error_test))"
   ]
  },
  {
   "cell_type": "markdown",
   "metadata": {},
   "source": [
    "# 6. Mini-batch SGD (fill the code)\n",
    "\n"
   ]
  },
  {
   "cell_type": "markdown",
   "metadata": {},
   "source": [
    "## 6.1. Compute the objective $Q_I$ and its gradient using a batch of samples\n",
    "\n",
    "Define $Q_I (w) = \\frac{1}{b} \\sum_{i \\in I} \\log \\Big( 1 + \\exp \\big( - y_i x_i^T w \\big) \\Big) + \\frac{\\lambda}{2} \\| w \\|_2^2 $, where $I$ is a set containing $b$ indices randomly drawn from $\\{ 1, \\cdots , n \\}$ without replacement.\n",
    "\n",
    "The stochastic gradient at $w$ is $g_I = \\frac{\\partial Q_I }{ \\partial w} = \\frac{1}{b} \\sum_{i \\in I} \\frac{- y_i x_i }{1 + \\exp ( y_i x_i^T w)} + \\lambda w$."
   ]
  },
  {
   "cell_type": "code",
   "execution_count": 76,
   "metadata": {},
   "outputs": [],
   "source": [
    "# Calculate the objective Q_I and the gradient of Q_I\n",
    "# Inputs:\n",
    "#     w: d-by-1 matrix\n",
    "#     xi: b-by-d matrix\n",
    "#     yi: b-by-1 matrix\n",
    "#     lam: scalar, the regularization parameter\n",
    "#     b: integer, the batch size\n",
    "# Return:\n",
    "#     obj: scalar, the objective Q_i\n",
    "#     g: d-by-1 matrix, gradient of Q_i\n",
    "def mb_stochastic_objective_gradient(w, xi, yi, lam, b):\n",
    "    # Fill the function\n",
    "    # Follow the implementation of stochastic_objective_gradient\n",
    "    # Use matrix-vector multiplication; do not use FOR LOOP of vector-vector multiplications\n",
    "#------------------------------------------------------------------------------------------------------------  \n",
    "    yxw = numpy.dot(numpy.multiply(xi,yi),w)\n",
    "    yx = numpy .multiply(xi, yi)\n",
    "    # Objective fn Q_i\n",
    "    loss = numpy.mean (numpy.log(1+numpy.exp(-yxw)))\n",
    "    regg = lam/2*numpy.sum(w*w)\n",
    "    obj = loss + regg\n",
    "    \n",
    "    # Stochastic Gradient\n",
    "    grad_loss = numpy.expand_dims(numpy.mean(numpy.divide(-yx, (1 + numpy.exp(yxw))), axis=0), axis=1)\n",
    "    g = grad_loss + lam * w\n",
    "    \n",
    "    return obj, g"
   ]
  },
  {
   "cell_type": "markdown",
   "metadata": {},
   "source": [
    "## 6.2. Implement mini-batch SGD\n",
    "\n",
    "Hints:\n",
    "1. In every epoch, randomly permute the $n$ samples (just like SGD).\n",
    "2. Each epoch has $\\frac{n}{b}$ iterations. In every iteration, use $b$ samples, and compute the gradient and objective using the ``mb_stochastic_objective_gradient`` function. In the next iteration, use the next $b$ samples, and so on.\n"
   ]
  },
  {
   "cell_type": "code",
   "execution_count": 77,
   "metadata": {},
   "outputs": [],
   "source": [
    "# Mini-Batch SGD for solving logistic regression\n",
    "# Inputs:\n",
    "#     x: n-by-d matrix\n",
    "#     y: n-by-1 matrix\n",
    "#     lam: scalar, the regularization parameter\n",
    "#     b: integer, the batch size\n",
    "#     stepsize: scalar\n",
    "#     max_epoch: integer, the maximal epochs\n",
    "#     w: d-by-1 matrix, initialization of w\n",
    "# Return:\n",
    "#     w: the solution\n",
    "#     objvals: record of each iteration's objective value\n",
    "def mb_sgd(x, y, lam, b, stepsize, max_epoch=100, w=None):\n",
    "    # Fill the function\n",
    "    # Follow the implementation of sgd\n",
    "    # Record one objective value per epoch (not per iteration!)\n",
    "#------------------------------------------------------------------------------\n",
    "    objvals = numpy.zeros(max_epoch)\n",
    "    \n",
    "    # Remove extra data\n",
    "    x = x[:x.shape[0]-(x.shape[0]%b),:]\n",
    "    y = y[:y.shape[0]-(y.shape[0]%b),:]\n",
    "    \n",
    "    n,d = x.shape\n",
    "    \n",
    "    if w is None:\n",
    "         #w = numpy.zeros(d,1) \n",
    "        w = numpy.zeros((d,1))\n",
    "    for t in range(max_epoch):\n",
    "        rand_indices = numpy.random.permutation(n)\n",
    "        randX = x[rand_indices,:]\n",
    "        randY = y[rand_indices,:]\n",
    "    \n",
    "        if ((randX.shape[0]%b) == 0):\n",
    "            shapeX = int(randX.shape[0]/b)\n",
    "            randX = numpy.array(randX).reshape((shapeX , b , randX.shape[1]))\n",
    "            shapeY = int(randY.shape[0]/b)\n",
    "            randY = numpy.array(randY).reshape((shapeY , b , randY.shape[1]))\n",
    "            \n",
    "        obj_val = 0\n",
    "        for i in range(randX.shape[0]):\n",
    "            xi = randX[i,:,:]\n",
    "            yi = randY[i,:,:]\n",
    "            obj, g = mb_stochastic_objective_gradient(w, xi, yi, lam, b)\n",
    "            obj_val = obj_val + obj\n",
    "            w = w - (stepsize * g)\n",
    "        \n",
    "        stepsize = stepsize * 0.9\n",
    "        obj_val = obj_val / randX.shape[0]\n",
    "        objvals[t] = obj_val\n",
    "        print('Objective value at epoch t=' + str(t) + ' is ' + str(obj_val))\n",
    "    \n",
    "        \n",
    "    \n",
    "    return w, objvals"
   ]
  },
  {
   "cell_type": "markdown",
   "metadata": {},
   "source": [
    "## 6.3. Run MB-SGD"
   ]
  },
  {
   "cell_type": "code",
   "execution_count": 78,
   "metadata": {
    "scrolled": true
   },
   "outputs": [
    {
     "name": "stdout",
     "output_type": "stream",
     "text": [
      "Objective value at epoch t=0 is 0.5124951657526783\n",
      "Objective value at epoch t=1 is 0.4895632554816983\n",
      "Objective value at epoch t=2 is 0.4912629452576477\n",
      "Objective value at epoch t=3 is 0.48838466044000467\n",
      "Objective value at epoch t=4 is 0.485281674232902\n",
      "Objective value at epoch t=5 is 0.48443566091395923\n",
      "Objective value at epoch t=6 is 0.48194990322293163\n",
      "Objective value at epoch t=7 is 0.4831510163985085\n",
      "Objective value at epoch t=8 is 0.4790801578359318\n",
      "Objective value at epoch t=9 is 0.47982906526514224\n",
      "Objective value at epoch t=10 is 0.4785577741681628\n",
      "Objective value at epoch t=11 is 0.477478377116907\n",
      "Objective value at epoch t=12 is 0.47652635417420797\n",
      "Objective value at epoch t=13 is 0.47647532012837096\n",
      "Objective value at epoch t=14 is 0.47652388465255074\n",
      "Objective value at epoch t=15 is 0.4753271969733001\n",
      "Objective value at epoch t=16 is 0.4742618035582943\n",
      "Objective value at epoch t=17 is 0.47444271902094004\n",
      "Objective value at epoch t=18 is 0.4744135565536863\n",
      "Objective value at epoch t=19 is 0.47346193101247935\n",
      "Objective value at epoch t=20 is 0.47303582190515325\n",
      "Objective value at epoch t=21 is 0.4733073191125189\n",
      "Objective value at epoch t=22 is 0.47272557616237887\n",
      "Objective value at epoch t=23 is 0.4723053981355717\n",
      "Objective value at epoch t=24 is 0.47239189747940935\n",
      "Objective value at epoch t=25 is 0.4722123485844268\n",
      "Objective value at epoch t=26 is 0.4719040712563986\n",
      "Objective value at epoch t=27 is 0.471612896468412\n",
      "Objective value at epoch t=28 is 0.4715217277101689\n",
      "Objective value at epoch t=29 is 0.47136430049527533\n",
      "Objective value at epoch t=30 is 0.4711926300744764\n",
      "Objective value at epoch t=31 is 0.4711504174643887\n",
      "Objective value at epoch t=32 is 0.47110220174563366\n",
      "Objective value at epoch t=33 is 0.47091707914324366\n",
      "Objective value at epoch t=34 is 0.47089580665451375\n",
      "Objective value at epoch t=35 is 0.47075322552683047\n",
      "Objective value at epoch t=36 is 0.4706912298994273\n",
      "Objective value at epoch t=37 is 0.47066583910494764\n",
      "Objective value at epoch t=38 is 0.47055291864908294\n",
      "Objective value at epoch t=39 is 0.4705404595269315\n",
      "Objective value at epoch t=40 is 0.47053016862722974\n",
      "Objective value at epoch t=41 is 0.4704889408475532\n",
      "Objective value at epoch t=42 is 0.4704008665772754\n",
      "Objective value at epoch t=43 is 0.4703891333955837\n",
      "Objective value at epoch t=44 is 0.47034982602814035\n",
      "Objective value at epoch t=45 is 0.4703461501888727\n",
      "Objective value at epoch t=46 is 0.4703195136562984\n",
      "Objective value at epoch t=47 is 0.4702999865698546\n",
      "Objective value at epoch t=48 is 0.4702749095511819\n",
      "Objective value at epoch t=49 is 0.4702566921200206\n",
      "Objective value at epoch t=50 is 0.4702494108027257\n",
      "Objective value at epoch t=51 is 0.47023930221392957\n",
      "Objective value at epoch t=52 is 0.4702200772193844\n",
      "Objective value at epoch t=53 is 0.47022064870951513\n",
      "Objective value at epoch t=54 is 0.47020180583805465\n",
      "Objective value at epoch t=55 is 0.47019417517973683\n",
      "Objective value at epoch t=56 is 0.4701788218278561\n",
      "Objective value at epoch t=57 is 0.4701728020802333\n",
      "Objective value at epoch t=58 is 0.4701675014387309\n",
      "Objective value at epoch t=59 is 0.4701606326320629\n",
      "Objective value at epoch t=60 is 0.4701564729409332\n",
      "Objective value at epoch t=61 is 0.4701505116541075\n",
      "Objective value at epoch t=62 is 0.470144229002202\n",
      "Objective value at epoch t=63 is 0.4701442904833966\n",
      "Objective value at epoch t=64 is 0.4701370113193676\n",
      "Objective value at epoch t=65 is 0.4701351660447413\n",
      "Objective value at epoch t=66 is 0.47013442714029197\n",
      "Objective value at epoch t=67 is 0.4701305396374134\n",
      "Objective value at epoch t=68 is 0.4701267781617875\n",
      "Objective value at epoch t=69 is 0.470123535351044\n",
      "Objective value at epoch t=70 is 0.47012210201787735\n",
      "Objective value at epoch t=71 is 0.4701224503069673\n",
      "Objective value at epoch t=72 is 0.4701206355936641\n",
      "Objective value at epoch t=73 is 0.47011848212302904\n",
      "Objective value at epoch t=74 is 0.47011661360822793\n",
      "Objective value at epoch t=75 is 0.4701157660060553\n",
      "Objective value at epoch t=76 is 0.4701148544908379\n",
      "Objective value at epoch t=77 is 0.4701154655782287\n",
      "Objective value at epoch t=78 is 0.4701134273201822\n",
      "Objective value at epoch t=79 is 0.4701124359411307\n",
      "Objective value at epoch t=80 is 0.4701119081270525\n",
      "Objective value at epoch t=81 is 0.4701108624800027\n",
      "Objective value at epoch t=82 is 0.470110492448121\n",
      "Objective value at epoch t=83 is 0.4701104320479047\n",
      "Objective value at epoch t=84 is 0.4701099839335373\n",
      "Objective value at epoch t=85 is 0.47010955235130075\n",
      "Objective value at epoch t=86 is 0.47010894692738897\n",
      "Objective value at epoch t=87 is 0.47010926954309873\n",
      "Objective value at epoch t=88 is 0.4701086553102344\n",
      "Objective value at epoch t=89 is 0.47010837580783144\n",
      "Objective value at epoch t=90 is 0.4701081214481494\n",
      "Objective value at epoch t=91 is 0.4701079168531126\n",
      "Objective value at epoch t=92 is 0.47010769459754814\n",
      "Objective value at epoch t=93 is 0.47010741647069076\n",
      "Objective value at epoch t=94 is 0.47010739238929455\n",
      "Objective value at epoch t=95 is 0.47010735731688547\n",
      "Objective value at epoch t=96 is 0.47010720452631205\n",
      "Objective value at epoch t=97 is 0.4701070592329394\n",
      "Objective value at epoch t=98 is 0.47010697448452066\n",
      "Objective value at epoch t=99 is 0.4701069474533015\n"
     ]
    }
   ],
   "source": [
    "# MB-SGD with batch size b=8\n",
    "lam = 1E-6 # do not change\n",
    "b = 8 # do not change\n",
    "stepsize = 0.3 # you must tune this parameter\n",
    "\n",
    "w, objvals_mbsgd8 = mb_sgd(x_train, y_train, lam, b, stepsize)"
   ]
  },
  {
   "cell_type": "code",
   "execution_count": 100,
   "metadata": {
    "scrolled": true
   },
   "outputs": [
    {
     "name": "stdout",
     "output_type": "stream",
     "text": [
      "Objective value at epoch t=0 is 0.5547724622076036\n",
      "Objective value at epoch t=1 is 0.49003257830237096\n",
      "Objective value at epoch t=2 is 0.47930567564283966\n",
      "Objective value at epoch t=3 is 0.47675667796277327\n",
      "Objective value at epoch t=4 is 0.47458267698174106\n",
      "Objective value at epoch t=5 is 0.47419585678726295\n",
      "Objective value at epoch t=6 is 0.47419563085543903\n",
      "Objective value at epoch t=7 is 0.47389062792344516\n",
      "Objective value at epoch t=8 is 0.47357497686597033\n",
      "Objective value at epoch t=9 is 0.47367834653221436\n",
      "Objective value at epoch t=10 is 0.47275405006388543\n",
      "Objective value at epoch t=11 is 0.47264529553197043\n",
      "Objective value at epoch t=12 is 0.4723065130387094\n",
      "Objective value at epoch t=13 is 0.47180293929998485\n",
      "Objective value at epoch t=14 is 0.4721858720108492\n",
      "Objective value at epoch t=15 is 0.47129525829821295\n",
      "Objective value at epoch t=16 is 0.4715670097738148\n",
      "Objective value at epoch t=17 is 0.4711789412064814\n",
      "Objective value at epoch t=18 is 0.4714486639097483\n",
      "Objective value at epoch t=19 is 0.4709944622619687\n",
      "Objective value at epoch t=20 is 0.47088289875401135\n",
      "Objective value at epoch t=21 is 0.4709444687251551\n",
      "Objective value at epoch t=22 is 0.4707540522134483\n",
      "Objective value at epoch t=23 is 0.47058760710741687\n",
      "Objective value at epoch t=24 is 0.4706205858058289\n",
      "Objective value at epoch t=25 is 0.4706077679002904\n",
      "Objective value at epoch t=26 is 0.47057221602781574\n",
      "Objective value at epoch t=27 is 0.47064831871420737\n",
      "Objective value at epoch t=28 is 0.470588347046679\n",
      "Objective value at epoch t=29 is 0.4704518038501268\n",
      "Objective value at epoch t=30 is 0.47052519466629494\n",
      "Objective value at epoch t=31 is 0.47040749555793865\n",
      "Objective value at epoch t=32 is 0.4704157768745678\n",
      "Objective value at epoch t=33 is 0.470326452159919\n",
      "Objective value at epoch t=34 is 0.4703665945714864\n",
      "Objective value at epoch t=35 is 0.470369736763429\n",
      "Objective value at epoch t=36 is 0.4702710341943841\n",
      "Objective value at epoch t=37 is 0.47024938275265804\n",
      "Objective value at epoch t=38 is 0.47025264198357347\n",
      "Objective value at epoch t=39 is 0.4702027784916966\n",
      "Objective value at epoch t=40 is 0.47026211715087973\n",
      "Objective value at epoch t=41 is 0.4702047000879446\n",
      "Objective value at epoch t=42 is 0.4702038884027531\n",
      "Objective value at epoch t=43 is 0.47018029218966567\n",
      "Objective value at epoch t=44 is 0.47016679618452983\n",
      "Objective value at epoch t=45 is 0.47016687032781024\n",
      "Objective value at epoch t=46 is 0.4701794829266558\n",
      "Objective value at epoch t=47 is 0.4701608567431368\n",
      "Objective value at epoch t=48 is 0.470172098917731\n",
      "Objective value at epoch t=49 is 0.47015033971124237\n",
      "Objective value at epoch t=50 is 0.4701520578813473\n",
      "Objective value at epoch t=51 is 0.47013856611183497\n",
      "Objective value at epoch t=52 is 0.4701373313410436\n",
      "Objective value at epoch t=53 is 0.4701364026316025\n",
      "Objective value at epoch t=54 is 0.4701378982916967\n",
      "Objective value at epoch t=55 is 0.4701285623847188\n",
      "Objective value at epoch t=56 is 0.4701290914682148\n",
      "Objective value at epoch t=57 is 0.47012494425225243\n",
      "Objective value at epoch t=58 is 0.47012086620081134\n",
      "Objective value at epoch t=59 is 0.4701234829557556\n",
      "Objective value at epoch t=60 is 0.47012699446115275\n",
      "Objective value at epoch t=61 is 0.4701228764602082\n",
      "Objective value at epoch t=62 is 0.4701190698710002\n",
      "Objective value at epoch t=63 is 0.47011676873736485\n",
      "Objective value at epoch t=64 is 0.4701178149511859\n",
      "Objective value at epoch t=65 is 0.470119416098499\n",
      "Objective value at epoch t=66 is 0.47011566613621564\n",
      "Objective value at epoch t=67 is 0.47011696877166703\n",
      "Objective value at epoch t=68 is 0.47011297412448394\n",
      "Objective value at epoch t=69 is 0.47011402148654663\n",
      "Objective value at epoch t=70 is 0.470113122628059\n",
      "Objective value at epoch t=71 is 0.47011414293933135\n",
      "Objective value at epoch t=72 is 0.47011334972545155\n",
      "Objective value at epoch t=73 is 0.47011222120954715\n",
      "Objective value at epoch t=74 is 0.4701122704317825\n",
      "Objective value at epoch t=75 is 0.4701122170486651\n",
      "Objective value at epoch t=76 is 0.47011168948030163\n",
      "Objective value at epoch t=77 is 0.47011144884159456\n",
      "Objective value at epoch t=78 is 0.47011045981596516\n",
      "Objective value at epoch t=79 is 0.4701110633804634\n",
      "Objective value at epoch t=80 is 0.47011082397298426\n",
      "Objective value at epoch t=81 is 0.4701105488571204\n",
      "Objective value at epoch t=82 is 0.47011086694353477\n",
      "Objective value at epoch t=83 is 0.47011007670462907\n",
      "Objective value at epoch t=84 is 0.4701102253794053\n",
      "Objective value at epoch t=85 is 0.47011001932737617\n",
      "Objective value at epoch t=86 is 0.4701101922649242\n",
      "Objective value at epoch t=87 is 0.4701100685221694\n",
      "Objective value at epoch t=88 is 0.4701101184954675\n",
      "Objective value at epoch t=89 is 0.470109785076431\n",
      "Objective value at epoch t=90 is 0.4701098269913374\n",
      "Objective value at epoch t=91 is 0.47010998211663635\n",
      "Objective value at epoch t=92 is 0.47010973272901724\n",
      "Objective value at epoch t=93 is 0.47010968588649804\n",
      "Objective value at epoch t=94 is 0.4701095815109279\n",
      "Objective value at epoch t=95 is 0.4701096020261003\n",
      "Objective value at epoch t=96 is 0.47010965036812236\n",
      "Objective value at epoch t=97 is 0.47010951496575004\n",
      "Objective value at epoch t=98 is 0.47010958807729264\n",
      "Objective value at epoch t=99 is 0.4701095095765157\n"
     ]
    }
   ],
   "source": [
    "# MB-SGD with batch size b=64\n",
    "lam = 1E-6 # do not change\n",
    "b = 64 # do not change\n",
    "stepsize = 0.68 # you must tune this parameter\n",
    "\n",
    "w, objvals_mbsgd64 = mb_sgd(x_train, y_train, lam, b, stepsize)"
   ]
  },
  {
   "cell_type": "markdown",
   "metadata": {},
   "source": [
    "# 7. Plot and compare GD, SGD, and MB-SGD"
   ]
  },
  {
   "cell_type": "markdown",
   "metadata": {},
   "source": [
    "You are required to compare the following algorithms:\n",
    "\n",
    "- Gradient descent (GD)\n",
    "\n",
    "- SGD\n",
    "\n",
    "- MB-SGD with b=8\n",
    "\n",
    "- MB-SGD with b=64\n",
    "\n",
    "Follow the code in Section 4 to plot ```objective function value``` against ```epochs```. There should be four curves in the plot; each curve corresponds to one algorithm."
   ]
  },
  {
   "cell_type": "markdown",
   "metadata": {},
   "source": [
    "Hint: Logistic regression with $\\ell_2$-norm regularization is a strongly convex optimization problem. All the algorithms will converge to the same solution. **In the end, the ``objective function value`` of the 4 algorithms will be the same. If not the same, your implementation must be wrong. Do NOT submit wrong code and wrong result!**"
   ]
  },
  {
   "cell_type": "code",
   "execution_count": 107,
   "metadata": {},
   "outputs": [
    {
     "data": {
      "image/png": "[encoded data removed]",
      "text/plain": [
       "<Figure size 432x288 with 1 Axes>"
      ]
     },
     "metadata": {
      "needs_background": "light"
     },
     "output_type": "display_data"
    }
   ],
   "source": [
    "# plot the 4 curves:\n",
    "\n",
    "import matplotlib.pyplot as plt\n",
    "%matplotlib inline\n",
    "\n",
    "fig = plt.figure (figsize = (6,4))\n",
    "\n",
    "epochs_gd = range(len(objvals_gd))\n",
    "epochs_sgd = range(len(objvals_sgd))\n",
    "epochs_mb8 = range(len(objvals_mbsgd8))\n",
    "epochs_mb64 = range(len(objvals_mbsgd64))\n",
    "\n",
    "line0, = plt.plot(epochs_gd, objvals_gd, '--b', LineWidth=2)\n",
    "line1, = plt.plot(epochs_sgd, objvals_sgd, '-r', LineWidth=2)\n",
    "line2, = plt.plot(epochs_mbsgd8, objvals_mbsgd8, '--k', LineWidth=2)\n",
    "line3, = plt.plot(epochs_mbsgd64, objvals_mbsgd64, '-m', LineWidth=2)\n",
    "\n",
    "plt.xlabel('Epochs', FontSize=20)\n",
    "plt.ylabel('Objective Value', FontSize=20)\n",
    "plt.xticks(FontSize=16)\n",
    "plt.yticks(FontSize=16)\n",
    "plt.legend([line0, line1, line2, line3], ['GD', 'SGD', 'MB-SGD8', 'MB-SGD64'], fontsize=20)\n",
    "plt.tight_layout()\n",
    "plt.show()\n",
    "fig.savefig('compare_gd_sgd_mb8_mb64.pdf', format='pdf', dpi=1200)"
   ]
  },
  {
   "cell_type": "markdown",
   "metadata": {},
   "source": []
  }
 ],
 "metadata": {
  "kernelspec": {
   "display_name": "Python 3",
   "language": "python",
   "name": "python3"
  },
  "language_info": {
   "codemirror_mode": {
    "name": "ipython",
    "version": 3
   },
   "file_extension": ".py",
   "mimetype": "text/x-python",
   "name": "python",
   "nbconvert_exporter": "python",
   "pygments_lexer": "ipython3",
   "version": "3.7.4"
  }
 },
 "nbformat": 4,
 "nbformat_minor": 2
}
